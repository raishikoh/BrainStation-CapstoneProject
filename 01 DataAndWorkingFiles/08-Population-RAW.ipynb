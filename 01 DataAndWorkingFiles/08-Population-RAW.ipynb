{
 "cells": [
  {
   "cell_type": "markdown",
   "id": "18464183-d410-4fc7-af89-95b6890a7e28",
   "metadata": {},
   "source": [
    "***\n",
    "# Population (Raw Data Processing)\n",
    "Capstone Project - Ali Sehpar Shikoh\n",
    "***"
   ]
  },
  {
   "cell_type": "markdown",
   "metadata": {},
   "source": [
    "<b> Previous Notebook: ManureApplied-RAW\n",
    "\n",
    "<b> Next Notebook: RoundwoodProduction-RAW"
   ]
  },
  {
   "cell_type": "markdown",
   "metadata": {},
   "source": [
    "Human population can have a positive as well as negative effect on crop yield. On one hand, increased population might result in increased labor in the field of agriculture, whereas on the other hand it might also result in the decrease of agricultural land due to its conversion for human housing purposes. This notebook deals with the processing of data related to the human population mentioned for each country on yearly basis."
   ]
  },
  {
   "cell_type": "markdown",
   "metadata": {},
   "source": [
    "### Exploratory Data Analysis"
   ]
  },
  {
   "cell_type": "markdown",
   "metadata": {},
   "source": [
    "Importing the required packages."
   ]
  },
  {
   "cell_type": "code",
   "execution_count": 1,
   "metadata": {},
   "outputs": [],
   "source": [
    "import numpy as np\n",
    "import pandas as pd"
   ]
  },
  {
   "cell_type": "markdown",
   "metadata": {},
   "source": [
    "Importing csv file in dataframe called 'population_df1'."
   ]
  },
  {
   "cell_type": "code",
   "execution_count": 2,
   "metadata": {},
   "outputs": [],
   "source": [
    "population_df1= pd.read_csv(\"DataFiles/01-RawDataFiles/Population-RAW/Population-RAW.csv\", encoding = 'latin1')"
   ]
  },
  {
   "cell_type": "markdown",
   "metadata": {},
   "source": [
    "Looking at the imported dataset."
   ]
  },
  {
   "cell_type": "code",
   "execution_count": null,
   "metadata": {},
   "outputs": [
    {
     "data": {
      "text/html": [
       "<div>\n",
       "<style scoped>\n",
       "    .dataframe tbody tr th:only-of-type {\n",
       "        vertical-align: middle;\n",
       "    }\n",
       "\n",
       "    .dataframe tbody tr th {\n",
       "        vertical-align: top;\n",
       "    }\n",
       "\n",
       "    .dataframe thead th {\n",
       "        text-align: right;\n",
       "    }\n",
       "</style>\n",
       "<table border=\"1\" class=\"dataframe\">\n",
       "  <thead>\n",
       "    <tr style=\"text-align: right;\">\n",
       "      <th></th>\n",
       "      <th>Area Code</th>\n",
       "      <th>Area</th>\n",
       "      <th>Item Code</th>\n",
       "      <th>Item</th>\n",
       "      <th>Element Code</th>\n",
       "      <th>Element</th>\n",
       "      <th>Year Code</th>\n",
       "      <th>Year</th>\n",
       "      <th>Unit</th>\n",
       "      <th>Value</th>\n",
       "      <th>Flag</th>\n",
       "      <th>Note</th>\n",
       "    </tr>\n",
       "  </thead>\n",
       "  <tbody>\n",
       "    <tr>\n",
       "      <th>0</th>\n",
       "      <td>2</td>\n",
       "      <td>Afghanistan</td>\n",
       "      <td>3010</td>\n",
       "      <td>Population - Est. &amp; Proj.</td>\n",
       "      <td>511</td>\n",
       "      <td>Total Population - Both sexes</td>\n",
       "      <td>1950</td>\n",
       "      <td>1950</td>\n",
       "      <td>1000 persons</td>\n",
       "      <td>7752.118</td>\n",
       "      <td>X</td>\n",
       "      <td>NaN</td>\n",
       "    </tr>\n",
       "    <tr>\n",
       "      <th>1</th>\n",
       "      <td>2</td>\n",
       "      <td>Afghanistan</td>\n",
       "      <td>3010</td>\n",
       "      <td>Population - Est. &amp; Proj.</td>\n",
       "      <td>511</td>\n",
       "      <td>Total Population - Both sexes</td>\n",
       "      <td>1951</td>\n",
       "      <td>1951</td>\n",
       "      <td>1000 persons</td>\n",
       "      <td>7840.156</td>\n",
       "      <td>X</td>\n",
       "      <td>NaN</td>\n",
       "    </tr>\n",
       "    <tr>\n",
       "      <th>2</th>\n",
       "      <td>2</td>\n",
       "      <td>Afghanistan</td>\n",
       "      <td>3010</td>\n",
       "      <td>Population - Est. &amp; Proj.</td>\n",
       "      <td>511</td>\n",
       "      <td>Total Population - Both sexes</td>\n",
       "      <td>1952</td>\n",
       "      <td>1952</td>\n",
       "      <td>1000 persons</td>\n",
       "      <td>7935.997</td>\n",
       "      <td>X</td>\n",
       "      <td>NaN</td>\n",
       "    </tr>\n",
       "    <tr>\n",
       "      <th>3</th>\n",
       "      <td>2</td>\n",
       "      <td>Afghanistan</td>\n",
       "      <td>3010</td>\n",
       "      <td>Population - Est. &amp; Proj.</td>\n",
       "      <td>511</td>\n",
       "      <td>Total Population - Both sexes</td>\n",
       "      <td>1953</td>\n",
       "      <td>1953</td>\n",
       "      <td>1000 persons</td>\n",
       "      <td>8039.694</td>\n",
       "      <td>X</td>\n",
       "      <td>NaN</td>\n",
       "    </tr>\n",
       "    <tr>\n",
       "      <th>4</th>\n",
       "      <td>2</td>\n",
       "      <td>Afghanistan</td>\n",
       "      <td>3010</td>\n",
       "      <td>Population - Est. &amp; Proj.</td>\n",
       "      <td>511</td>\n",
       "      <td>Total Population - Both sexes</td>\n",
       "      <td>1954</td>\n",
       "      <td>1954</td>\n",
       "      <td>1000 persons</td>\n",
       "      <td>8151.317</td>\n",
       "      <td>X</td>\n",
       "      <td>NaN</td>\n",
       "    </tr>\n",
       "  </tbody>\n",
       "</table>\n",
       "</div>"
      ],
      "text/plain": [
       "   Area Code         Area  Item Code                       Item  Element Code  \\\n",
       "0          2  Afghanistan       3010  Population - Est. & Proj.           511   \n",
       "1          2  Afghanistan       3010  Population - Est. & Proj.           511   \n",
       "2          2  Afghanistan       3010  Population - Est. & Proj.           511   \n",
       "3          2  Afghanistan       3010  Population - Est. & Proj.           511   \n",
       "4          2  Afghanistan       3010  Population - Est. & Proj.           511   \n",
       "\n",
       "                         Element  Year Code  Year          Unit     Value  \\\n",
       "0  Total Population - Both sexes       1950  1950  1000 persons  7752.118   \n",
       "1  Total Population - Both sexes       1951  1951  1000 persons  7840.156   \n",
       "2  Total Population - Both sexes       1952  1952  1000 persons  7935.997   \n",
       "3  Total Population - Both sexes       1953  1953  1000 persons  8039.694   \n",
       "4  Total Population - Both sexes       1954  1954  1000 persons  8151.317   \n",
       "\n",
       "  Flag  Note  \n",
       "0    X   NaN  \n",
       "1    X   NaN  \n",
       "2    X   NaN  \n",
       "3    X   NaN  \n",
       "4    X   NaN  "
      ]
     },
     "execution_count": 3,
     "metadata": {},
     "output_type": "execute_result"
    }
   ],
   "source": [
    "population_df1.head()"
   ]
  },
  {
   "cell_type": "markdown",
   "metadata": {},
   "source": [
    "Checking out the unique 'Element' entries."
   ]
  },
  {
   "cell_type": "code",
   "execution_count": null,
   "metadata": {},
   "outputs": [
    {
     "data": {
      "text/plain": [
       "array(['Total Population - Both sexes', 'Total Population - Male',\n",
       "       'Total Population - Female', 'Rural population',\n",
       "       'Urban population'], dtype=object)"
      ]
     },
     "execution_count": 4,
     "metadata": {},
     "output_type": "execute_result"
    }
   ],
   "source": [
    "population_df1['Element'].unique()"
   ]
  },
  {
   "cell_type": "markdown",
   "metadata": {},
   "source": [
    "As seen, there are a total of 12 columns."
   ]
  },
  {
   "cell_type": "markdown",
   "metadata": {},
   "source": [
    "Checking the distribution of entries in the 'Element' column."
   ]
  },
  {
   "cell_type": "code",
   "execution_count": null,
   "metadata": {},
   "outputs": [
    {
     "data": {
      "text/plain": [
       "Total Population - Both sexes    39441\n",
       "Total Population - Female        34674\n",
       "Total Population - Male          34674\n",
       "Rural population                 25811\n",
       "Urban population                 25811\n",
       "Name: Element, dtype: int64"
      ]
     },
     "execution_count": 5,
     "metadata": {},
     "output_type": "execute_result"
    }
   ],
   "source": [
    "population_df1['Element'].value_counts()"
   ]
  },
  {
   "cell_type": "markdown",
   "metadata": {},
   "source": [
    "As seen, the 'Element' column consists of multiple categories. Only the 'Total Population - Both sexes' category will be used as it is indicative of all the other categories mentioned in the 'Element' column."
   ]
  },
  {
   "cell_type": "markdown",
   "metadata": {},
   "source": [
    "Making sure that the data contained in the 'Unit' column has only one type of value."
   ]
  },
  {
   "cell_type": "code",
   "execution_count": null,
   "metadata": {},
   "outputs": [
    {
     "data": {
      "text/plain": [
       "array(['1000 persons'], dtype=object)"
      ]
     },
     "execution_count": 6,
     "metadata": {},
     "output_type": "execute_result"
    }
   ],
   "source": [
    "population_df1['Unit'].unique()"
   ]
  },
  {
   "cell_type": "markdown",
   "metadata": {},
   "source": [
    "It turns out that the population dataset has only on unit type i.e. X 1000 persons."
   ]
  },
  {
   "cell_type": "markdown",
   "metadata": {},
   "source": [
    "Checking out unique entries in the 'Item' column."
   ]
  },
  {
   "cell_type": "code",
   "execution_count": null,
   "metadata": {},
   "outputs": [
    {
     "data": {
      "text/plain": [
       "array(['Population - Est. & Proj.'], dtype=object)"
      ]
     },
     "execution_count": 7,
     "metadata": {},
     "output_type": "execute_result"
    }
   ],
   "source": [
    "population_df1['Item'].unique()"
   ]
  },
  {
   "cell_type": "markdown",
   "metadata": {},
   "source": [
    "The 'Item' column contains only one categorical value, thus, making this column less significant."
   ]
  },
  {
   "cell_type": "markdown",
   "metadata": {},
   "source": [
    "Looking at the values contained in the 'Flags' column."
   ]
  },
  {
   "cell_type": "code",
   "execution_count": null,
   "metadata": {},
   "outputs": [
    {
     "data": {
      "text/plain": [
       "array(['X', 'A'], dtype=object)"
      ]
     },
     "execution_count": 8,
     "metadata": {},
     "output_type": "execute_result"
    }
   ],
   "source": [
    "population_df1['Flag'].unique()"
   ]
  },
  {
   "cell_type": "markdown",
   "metadata": {},
   "source": [
    "Checking the distribution of the two flag types mentioned above."
   ]
  },
  {
   "cell_type": "code",
   "execution_count": null,
   "metadata": {},
   "outputs": [
    {
     "data": {
      "text/plain": [
       "X    84.380747\n",
       "A    15.619253\n",
       "Name: Flag, dtype: float64"
      ]
     },
     "execution_count": 10,
     "metadata": {},
     "output_type": "execute_result"
    }
   ],
   "source": [
    "population_df1['Flag'].value_counts(normalize=True)*100"
   ]
  },
  {
   "cell_type": "markdown",
   "metadata": {},
   "source": [
    "It seems that almost 85% of the values reported are official. the rest are either semi-official, estimated or calculated data. However, were are going to keep data related to both the sets in order to make the dataset as extensive as possible. Since all the categorical values mentioned in the 'Flag' column will be used, therefore, we can discard the 'Flag' column alongside the 'Item' column."
   ]
  },
  {
   "cell_type": "markdown",
   "metadata": {},
   "source": [
    "Checking out the value count for the Notes column."
   ]
  },
  {
   "cell_type": "code",
   "execution_count": null,
   "metadata": {},
   "outputs": [
    {
     "data": {
      "text/plain": [
       "Series([], Name: Note, dtype: int64)"
      ]
     },
     "execution_count": 11,
     "metadata": {},
     "output_type": "execute_result"
    }
   ],
   "source": [
    "population_df1['Note'].value_counts()"
   ]
  },
  {
   "cell_type": "markdown",
   "metadata": {},
   "source": [
    "Notes Column seems to be empty so it is can also be dropped."
   ]
  },
  {
   "cell_type": "markdown",
   "metadata": {},
   "source": [
    "### Refined Dataset Creation and Exportation"
   ]
  },
  {
   "cell_type": "markdown",
   "metadata": {},
   "source": [
    "Dropping various redundant columns and renaming the retained 'Value' column to 'Total Population (X 1000)'"
   ]
  },
  {
   "cell_type": "code",
   "execution_count": null,
   "metadata": {},
   "outputs": [
    {
     "data": {
      "text/html": [
       "<div>\n",
       "<style scoped>\n",
       "    .dataframe tbody tr th:only-of-type {\n",
       "        vertical-align: middle;\n",
       "    }\n",
       "\n",
       "    .dataframe tbody tr th {\n",
       "        vertical-align: top;\n",
       "    }\n",
       "\n",
       "    .dataframe thead th {\n",
       "        text-align: right;\n",
       "    }\n",
       "</style>\n",
       "<table border=\"1\" class=\"dataframe\">\n",
       "  <thead>\n",
       "    <tr style=\"text-align: right;\">\n",
       "      <th></th>\n",
       "      <th>Area Code</th>\n",
       "      <th>Area</th>\n",
       "      <th>Element</th>\n",
       "      <th>Year</th>\n",
       "      <th>Total Population (X 1000)</th>\n",
       "    </tr>\n",
       "  </thead>\n",
       "  <tbody>\n",
       "    <tr>\n",
       "      <th>0</th>\n",
       "      <td>2</td>\n",
       "      <td>Afghanistan</td>\n",
       "      <td>Total Population - Both sexes</td>\n",
       "      <td>1950</td>\n",
       "      <td>7752.118</td>\n",
       "    </tr>\n",
       "    <tr>\n",
       "      <th>1</th>\n",
       "      <td>2</td>\n",
       "      <td>Afghanistan</td>\n",
       "      <td>Total Population - Both sexes</td>\n",
       "      <td>1951</td>\n",
       "      <td>7840.156</td>\n",
       "    </tr>\n",
       "    <tr>\n",
       "      <th>2</th>\n",
       "      <td>2</td>\n",
       "      <td>Afghanistan</td>\n",
       "      <td>Total Population - Both sexes</td>\n",
       "      <td>1952</td>\n",
       "      <td>7935.997</td>\n",
       "    </tr>\n",
       "    <tr>\n",
       "      <th>3</th>\n",
       "      <td>2</td>\n",
       "      <td>Afghanistan</td>\n",
       "      <td>Total Population - Both sexes</td>\n",
       "      <td>1953</td>\n",
       "      <td>8039.694</td>\n",
       "    </tr>\n",
       "    <tr>\n",
       "      <th>4</th>\n",
       "      <td>2</td>\n",
       "      <td>Afghanistan</td>\n",
       "      <td>Total Population - Both sexes</td>\n",
       "      <td>1954</td>\n",
       "      <td>8151.317</td>\n",
       "    </tr>\n",
       "    <tr>\n",
       "      <th>...</th>\n",
       "      <td>...</td>\n",
       "      <td>...</td>\n",
       "      <td>...</td>\n",
       "      <td>...</td>\n",
       "      <td>...</td>\n",
       "    </tr>\n",
       "    <tr>\n",
       "      <th>160406</th>\n",
       "      <td>5817</td>\n",
       "      <td>Net Food Importing Developing Countries</td>\n",
       "      <td>Urban population</td>\n",
       "      <td>2046</td>\n",
       "      <td>1383207.147</td>\n",
       "    </tr>\n",
       "    <tr>\n",
       "      <th>160407</th>\n",
       "      <td>5817</td>\n",
       "      <td>Net Food Importing Developing Countries</td>\n",
       "      <td>Urban population</td>\n",
       "      <td>2047</td>\n",
       "      <td>1418053.439</td>\n",
       "    </tr>\n",
       "    <tr>\n",
       "      <th>160408</th>\n",
       "      <td>5817</td>\n",
       "      <td>Net Food Importing Developing Countries</td>\n",
       "      <td>Urban population</td>\n",
       "      <td>2048</td>\n",
       "      <td>1453280.641</td>\n",
       "    </tr>\n",
       "    <tr>\n",
       "      <th>160409</th>\n",
       "      <td>5817</td>\n",
       "      <td>Net Food Importing Developing Countries</td>\n",
       "      <td>Urban population</td>\n",
       "      <td>2049</td>\n",
       "      <td>1488876.775</td>\n",
       "    </tr>\n",
       "    <tr>\n",
       "      <th>160410</th>\n",
       "      <td>5817</td>\n",
       "      <td>Net Food Importing Developing Countries</td>\n",
       "      <td>Urban population</td>\n",
       "      <td>2050</td>\n",
       "      <td>1524829.154</td>\n",
       "    </tr>\n",
       "  </tbody>\n",
       "</table>\n",
       "<p>160411 rows × 5 columns</p>\n",
       "</div>"
      ],
      "text/plain": [
       "        Area Code                                     Area  \\\n",
       "0               2                              Afghanistan   \n",
       "1               2                              Afghanistan   \n",
       "2               2                              Afghanistan   \n",
       "3               2                              Afghanistan   \n",
       "4               2                              Afghanistan   \n",
       "...           ...                                      ...   \n",
       "160406       5817  Net Food Importing Developing Countries   \n",
       "160407       5817  Net Food Importing Developing Countries   \n",
       "160408       5817  Net Food Importing Developing Countries   \n",
       "160409       5817  Net Food Importing Developing Countries   \n",
       "160410       5817  Net Food Importing Developing Countries   \n",
       "\n",
       "                              Element  Year  Total Population (X 1000)  \n",
       "0       Total Population - Both sexes  1950                   7752.118  \n",
       "1       Total Population - Both sexes  1951                   7840.156  \n",
       "2       Total Population - Both sexes  1952                   7935.997  \n",
       "3       Total Population - Both sexes  1953                   8039.694  \n",
       "4       Total Population - Both sexes  1954                   8151.317  \n",
       "...                               ...   ...                        ...  \n",
       "160406               Urban population  2046                1383207.147  \n",
       "160407               Urban population  2047                1418053.439  \n",
       "160408               Urban population  2048                1453280.641  \n",
       "160409               Urban population  2049                1488876.775  \n",
       "160410               Urban population  2050                1524829.154  \n",
       "\n",
       "[160411 rows x 5 columns]"
      ]
     },
     "execution_count": 12,
     "metadata": {},
     "output_type": "execute_result"
    }
   ],
   "source": [
    "population_df2 = population_df1.drop(['Item', 'Item Code', 'Element Code', 'Year Code', 'Unit', 'Note', 'Flag'], 1)\n",
    "population_df2.rename(columns = {'Value':'Total Population (X 1000)'}, inplace = True)\n",
    "population_df2"
   ]
  },
  {
   "cell_type": "markdown",
   "metadata": {},
   "source": [
    "Since we are interested in the population of both sexes, therefore we will filter the element column to include values related to total population only. Also we will be filtering data for countries only."
   ]
  },
  {
   "cell_type": "code",
   "execution_count": null,
   "metadata": {},
   "outputs": [
    {
     "data": {
      "text/html": [
       "<div>\n",
       "<style scoped>\n",
       "    .dataframe tbody tr th:only-of-type {\n",
       "        vertical-align: middle;\n",
       "    }\n",
       "\n",
       "    .dataframe tbody tr th {\n",
       "        vertical-align: top;\n",
       "    }\n",
       "\n",
       "    .dataframe thead th {\n",
       "        text-align: right;\n",
       "    }\n",
       "</style>\n",
       "<table border=\"1\" class=\"dataframe\">\n",
       "  <thead>\n",
       "    <tr style=\"text-align: right;\">\n",
       "      <th></th>\n",
       "      <th>Area Code</th>\n",
       "      <th>Area</th>\n",
       "      <th>Element</th>\n",
       "      <th>Year</th>\n",
       "      <th>Total Population (X 1000)</th>\n",
       "    </tr>\n",
       "  </thead>\n",
       "  <tbody>\n",
       "    <tr>\n",
       "      <th>0</th>\n",
       "      <td>2</td>\n",
       "      <td>Afghanistan</td>\n",
       "      <td>Total Population - Both sexes</td>\n",
       "      <td>1950</td>\n",
       "      <td>7752.118</td>\n",
       "    </tr>\n",
       "    <tr>\n",
       "      <th>1</th>\n",
       "      <td>2</td>\n",
       "      <td>Afghanistan</td>\n",
       "      <td>Total Population - Both sexes</td>\n",
       "      <td>1951</td>\n",
       "      <td>7840.156</td>\n",
       "    </tr>\n",
       "    <tr>\n",
       "      <th>2</th>\n",
       "      <td>2</td>\n",
       "      <td>Afghanistan</td>\n",
       "      <td>Total Population - Both sexes</td>\n",
       "      <td>1952</td>\n",
       "      <td>7935.997</td>\n",
       "    </tr>\n",
       "    <tr>\n",
       "      <th>3</th>\n",
       "      <td>2</td>\n",
       "      <td>Afghanistan</td>\n",
       "      <td>Total Population - Both sexes</td>\n",
       "      <td>1953</td>\n",
       "      <td>8039.694</td>\n",
       "    </tr>\n",
       "    <tr>\n",
       "      <th>4</th>\n",
       "      <td>2</td>\n",
       "      <td>Afghanistan</td>\n",
       "      <td>Total Population - Both sexes</td>\n",
       "      <td>1954</td>\n",
       "      <td>8151.317</td>\n",
       "    </tr>\n",
       "    <tr>\n",
       "      <th>...</th>\n",
       "      <td>...</td>\n",
       "      <td>...</td>\n",
       "      <td>...</td>\n",
       "      <td>...</td>\n",
       "      <td>...</td>\n",
       "    </tr>\n",
       "    <tr>\n",
       "      <th>137842</th>\n",
       "      <td>181</td>\n",
       "      <td>Zimbabwe</td>\n",
       "      <td>Total Population - Both sexes</td>\n",
       "      <td>2096</td>\n",
       "      <td>30940.779</td>\n",
       "    </tr>\n",
       "    <tr>\n",
       "      <th>137843</th>\n",
       "      <td>181</td>\n",
       "      <td>Zimbabwe</td>\n",
       "      <td>Total Population - Both sexes</td>\n",
       "      <td>2097</td>\n",
       "      <td>30952.209</td>\n",
       "    </tr>\n",
       "    <tr>\n",
       "      <th>137844</th>\n",
       "      <td>181</td>\n",
       "      <td>Zimbabwe</td>\n",
       "      <td>Total Population - Both sexes</td>\n",
       "      <td>2098</td>\n",
       "      <td>30959.811</td>\n",
       "    </tr>\n",
       "    <tr>\n",
       "      <th>137845</th>\n",
       "      <td>181</td>\n",
       "      <td>Zimbabwe</td>\n",
       "      <td>Total Population - Both sexes</td>\n",
       "      <td>2099</td>\n",
       "      <td>30964.041</td>\n",
       "    </tr>\n",
       "    <tr>\n",
       "      <th>137846</th>\n",
       "      <td>181</td>\n",
       "      <td>Zimbabwe</td>\n",
       "      <td>Total Population - Both sexes</td>\n",
       "      <td>2100</td>\n",
       "      <td>30965.415</td>\n",
       "    </tr>\n",
       "  </tbody>\n",
       "</table>\n",
       "<p>34349 rows × 5 columns</p>\n",
       "</div>"
      ],
      "text/plain": [
       "        Area Code         Area                        Element  Year  \\\n",
       "0               2  Afghanistan  Total Population - Both sexes  1950   \n",
       "1               2  Afghanistan  Total Population - Both sexes  1951   \n",
       "2               2  Afghanistan  Total Population - Both sexes  1952   \n",
       "3               2  Afghanistan  Total Population - Both sexes  1953   \n",
       "4               2  Afghanistan  Total Population - Both sexes  1954   \n",
       "...           ...          ...                            ...   ...   \n",
       "137842        181     Zimbabwe  Total Population - Both sexes  2096   \n",
       "137843        181     Zimbabwe  Total Population - Both sexes  2097   \n",
       "137844        181     Zimbabwe  Total Population - Both sexes  2098   \n",
       "137845        181     Zimbabwe  Total Population - Both sexes  2099   \n",
       "137846        181     Zimbabwe  Total Population - Both sexes  2100   \n",
       "\n",
       "        Total Population (X 1000)  \n",
       "0                        7752.118  \n",
       "1                        7840.156  \n",
       "2                        7935.997  \n",
       "3                        8039.694  \n",
       "4                        8151.317  \n",
       "...                           ...  \n",
       "137842                  30940.779  \n",
       "137843                  30952.209  \n",
       "137844                  30959.811  \n",
       "137845                  30964.041  \n",
       "137846                  30965.415  \n",
       "\n",
       "[34349 rows x 5 columns]"
      ]
     },
     "execution_count": 13,
     "metadata": {},
     "output_type": "execute_result"
    }
   ],
   "source": [
    "population_df3 = population_df2.loc[(population_df2['Element'] == 'Total Population - Both sexes') & (population_df2['Area Code'] < 5000)]\n",
    "population_df3"
   ]
  },
  {
   "cell_type": "markdown",
   "metadata": {},
   "source": [
    "As seen no. total population columns are same as before. However the number of rows has decreased significantly."
   ]
  },
  {
   "cell_type": "markdown",
   "metadata": {},
   "source": [
    "Now we can drop the Element column as it contains only one value type."
   ]
  },
  {
   "cell_type": "code",
   "execution_count": null,
   "metadata": {},
   "outputs": [
    {
     "data": {
      "text/html": [
       "<div>\n",
       "<style scoped>\n",
       "    .dataframe tbody tr th:only-of-type {\n",
       "        vertical-align: middle;\n",
       "    }\n",
       "\n",
       "    .dataframe tbody tr th {\n",
       "        vertical-align: top;\n",
       "    }\n",
       "\n",
       "    .dataframe thead th {\n",
       "        text-align: right;\n",
       "    }\n",
       "</style>\n",
       "<table border=\"1\" class=\"dataframe\">\n",
       "  <thead>\n",
       "    <tr style=\"text-align: right;\">\n",
       "      <th></th>\n",
       "      <th>Area Code</th>\n",
       "      <th>Area</th>\n",
       "      <th>Year</th>\n",
       "      <th>Total Population (X 1000)</th>\n",
       "    </tr>\n",
       "  </thead>\n",
       "  <tbody>\n",
       "    <tr>\n",
       "      <th>0</th>\n",
       "      <td>2</td>\n",
       "      <td>Afghanistan</td>\n",
       "      <td>1950</td>\n",
       "      <td>7752.118</td>\n",
       "    </tr>\n",
       "    <tr>\n",
       "      <th>1</th>\n",
       "      <td>2</td>\n",
       "      <td>Afghanistan</td>\n",
       "      <td>1951</td>\n",
       "      <td>7840.156</td>\n",
       "    </tr>\n",
       "    <tr>\n",
       "      <th>2</th>\n",
       "      <td>2</td>\n",
       "      <td>Afghanistan</td>\n",
       "      <td>1952</td>\n",
       "      <td>7935.997</td>\n",
       "    </tr>\n",
       "    <tr>\n",
       "      <th>3</th>\n",
       "      <td>2</td>\n",
       "      <td>Afghanistan</td>\n",
       "      <td>1953</td>\n",
       "      <td>8039.694</td>\n",
       "    </tr>\n",
       "    <tr>\n",
       "      <th>4</th>\n",
       "      <td>2</td>\n",
       "      <td>Afghanistan</td>\n",
       "      <td>1954</td>\n",
       "      <td>8151.317</td>\n",
       "    </tr>\n",
       "    <tr>\n",
       "      <th>...</th>\n",
       "      <td>...</td>\n",
       "      <td>...</td>\n",
       "      <td>...</td>\n",
       "      <td>...</td>\n",
       "    </tr>\n",
       "    <tr>\n",
       "      <th>137842</th>\n",
       "      <td>181</td>\n",
       "      <td>Zimbabwe</td>\n",
       "      <td>2096</td>\n",
       "      <td>30940.779</td>\n",
       "    </tr>\n",
       "    <tr>\n",
       "      <th>137843</th>\n",
       "      <td>181</td>\n",
       "      <td>Zimbabwe</td>\n",
       "      <td>2097</td>\n",
       "      <td>30952.209</td>\n",
       "    </tr>\n",
       "    <tr>\n",
       "      <th>137844</th>\n",
       "      <td>181</td>\n",
       "      <td>Zimbabwe</td>\n",
       "      <td>2098</td>\n",
       "      <td>30959.811</td>\n",
       "    </tr>\n",
       "    <tr>\n",
       "      <th>137845</th>\n",
       "      <td>181</td>\n",
       "      <td>Zimbabwe</td>\n",
       "      <td>2099</td>\n",
       "      <td>30964.041</td>\n",
       "    </tr>\n",
       "    <tr>\n",
       "      <th>137846</th>\n",
       "      <td>181</td>\n",
       "      <td>Zimbabwe</td>\n",
       "      <td>2100</td>\n",
       "      <td>30965.415</td>\n",
       "    </tr>\n",
       "  </tbody>\n",
       "</table>\n",
       "<p>34349 rows × 4 columns</p>\n",
       "</div>"
      ],
      "text/plain": [
       "        Area Code         Area  Year  Total Population (X 1000)\n",
       "0               2  Afghanistan  1950                   7752.118\n",
       "1               2  Afghanistan  1951                   7840.156\n",
       "2               2  Afghanistan  1952                   7935.997\n",
       "3               2  Afghanistan  1953                   8039.694\n",
       "4               2  Afghanistan  1954                   8151.317\n",
       "...           ...          ...   ...                        ...\n",
       "137842        181     Zimbabwe  2096                  30940.779\n",
       "137843        181     Zimbabwe  2097                  30952.209\n",
       "137844        181     Zimbabwe  2098                  30959.811\n",
       "137845        181     Zimbabwe  2099                  30964.041\n",
       "137846        181     Zimbabwe  2100                  30965.415\n",
       "\n",
       "[34349 rows x 4 columns]"
      ]
     },
     "execution_count": 14,
     "metadata": {},
     "output_type": "execute_result"
    }
   ],
   "source": [
    "population_df4 = population_df3.drop(['Element'], 1)\n",
    "population_df4"
   ]
  },
  {
   "cell_type": "markdown",
   "metadata": {},
   "source": [
    "Checking the dataset for null values and variable datatypes."
   ]
  },
  {
   "cell_type": "code",
   "execution_count": null,
   "metadata": {},
   "outputs": [
    {
     "name": "stdout",
     "output_type": "stream",
     "text": [
      "<class 'pandas.core.frame.DataFrame'>\n",
      "Int64Index: 34349 entries, 0 to 137846\n",
      "Data columns (total 4 columns):\n",
      " #   Column                     Non-Null Count  Dtype  \n",
      "---  ------                     --------------  -----  \n",
      " 0   Area Code                  34349 non-null  int64  \n",
      " 1   Area                       34349 non-null  object \n",
      " 2   Year                       34349 non-null  int64  \n",
      " 3   Total Population (X 1000)  34349 non-null  float64\n",
      "dtypes: float64(1), int64(2), object(1)\n",
      "memory usage: 1.3+ MB\n"
     ]
    }
   ],
   "source": [
    "population_df4.info()"
   ]
  },
  {
   "cell_type": "markdown",
   "metadata": {},
   "source": [
    "As seen there are no null values in the dataset."
   ]
  },
  {
   "cell_type": "markdown",
   "metadata": {},
   "source": [
    "Resting the index."
   ]
  },
  {
   "cell_type": "code",
   "execution_count": null,
   "metadata": {},
   "outputs": [
    {
     "data": {
      "text/html": [
       "<div>\n",
       "<style scoped>\n",
       "    .dataframe tbody tr th:only-of-type {\n",
       "        vertical-align: middle;\n",
       "    }\n",
       "\n",
       "    .dataframe tbody tr th {\n",
       "        vertical-align: top;\n",
       "    }\n",
       "\n",
       "    .dataframe thead th {\n",
       "        text-align: right;\n",
       "    }\n",
       "</style>\n",
       "<table border=\"1\" class=\"dataframe\">\n",
       "  <thead>\n",
       "    <tr style=\"text-align: right;\">\n",
       "      <th></th>\n",
       "      <th>Area Code</th>\n",
       "      <th>Area</th>\n",
       "      <th>Year</th>\n",
       "      <th>Total Population (X 1000)</th>\n",
       "    </tr>\n",
       "  </thead>\n",
       "  <tbody>\n",
       "    <tr>\n",
       "      <th>0</th>\n",
       "      <td>2</td>\n",
       "      <td>Afghanistan</td>\n",
       "      <td>1950</td>\n",
       "      <td>7752.118</td>\n",
       "    </tr>\n",
       "    <tr>\n",
       "      <th>1</th>\n",
       "      <td>2</td>\n",
       "      <td>Afghanistan</td>\n",
       "      <td>1951</td>\n",
       "      <td>7840.156</td>\n",
       "    </tr>\n",
       "    <tr>\n",
       "      <th>2</th>\n",
       "      <td>2</td>\n",
       "      <td>Afghanistan</td>\n",
       "      <td>1952</td>\n",
       "      <td>7935.997</td>\n",
       "    </tr>\n",
       "    <tr>\n",
       "      <th>3</th>\n",
       "      <td>2</td>\n",
       "      <td>Afghanistan</td>\n",
       "      <td>1953</td>\n",
       "      <td>8039.694</td>\n",
       "    </tr>\n",
       "    <tr>\n",
       "      <th>4</th>\n",
       "      <td>2</td>\n",
       "      <td>Afghanistan</td>\n",
       "      <td>1954</td>\n",
       "      <td>8151.317</td>\n",
       "    </tr>\n",
       "    <tr>\n",
       "      <th>...</th>\n",
       "      <td>...</td>\n",
       "      <td>...</td>\n",
       "      <td>...</td>\n",
       "      <td>...</td>\n",
       "    </tr>\n",
       "    <tr>\n",
       "      <th>34344</th>\n",
       "      <td>181</td>\n",
       "      <td>Zimbabwe</td>\n",
       "      <td>2096</td>\n",
       "      <td>30940.779</td>\n",
       "    </tr>\n",
       "    <tr>\n",
       "      <th>34345</th>\n",
       "      <td>181</td>\n",
       "      <td>Zimbabwe</td>\n",
       "      <td>2097</td>\n",
       "      <td>30952.209</td>\n",
       "    </tr>\n",
       "    <tr>\n",
       "      <th>34346</th>\n",
       "      <td>181</td>\n",
       "      <td>Zimbabwe</td>\n",
       "      <td>2098</td>\n",
       "      <td>30959.811</td>\n",
       "    </tr>\n",
       "    <tr>\n",
       "      <th>34347</th>\n",
       "      <td>181</td>\n",
       "      <td>Zimbabwe</td>\n",
       "      <td>2099</td>\n",
       "      <td>30964.041</td>\n",
       "    </tr>\n",
       "    <tr>\n",
       "      <th>34348</th>\n",
       "      <td>181</td>\n",
       "      <td>Zimbabwe</td>\n",
       "      <td>2100</td>\n",
       "      <td>30965.415</td>\n",
       "    </tr>\n",
       "  </tbody>\n",
       "</table>\n",
       "<p>34349 rows × 4 columns</p>\n",
       "</div>"
      ],
      "text/plain": [
       "       Area Code         Area  Year  Total Population (X 1000)\n",
       "0              2  Afghanistan  1950                   7752.118\n",
       "1              2  Afghanistan  1951                   7840.156\n",
       "2              2  Afghanistan  1952                   7935.997\n",
       "3              2  Afghanistan  1953                   8039.694\n",
       "4              2  Afghanistan  1954                   8151.317\n",
       "...          ...          ...   ...                        ...\n",
       "34344        181     Zimbabwe  2096                  30940.779\n",
       "34345        181     Zimbabwe  2097                  30952.209\n",
       "34346        181     Zimbabwe  2098                  30959.811\n",
       "34347        181     Zimbabwe  2099                  30964.041\n",
       "34348        181     Zimbabwe  2100                  30965.415\n",
       "\n",
       "[34349 rows x 4 columns]"
      ]
     },
     "execution_count": 16,
     "metadata": {},
     "output_type": "execute_result"
    }
   ],
   "source": [
    "population_df4.reset_index(drop = True, inplace= True)\n",
    "population_df4"
   ]
  },
  {
   "cell_type": "markdown",
   "metadata": {},
   "source": [
    "Filtering out the population dataset between year 1961 and 2019 as majority of the datasets have data for this time period."
   ]
  },
  {
   "cell_type": "code",
   "execution_count": null,
   "metadata": {},
   "outputs": [
    {
     "data": {
      "text/html": [
       "<div>\n",
       "<style scoped>\n",
       "    .dataframe tbody tr th:only-of-type {\n",
       "        vertical-align: middle;\n",
       "    }\n",
       "\n",
       "    .dataframe tbody tr th {\n",
       "        vertical-align: top;\n",
       "    }\n",
       "\n",
       "    .dataframe thead th {\n",
       "        text-align: right;\n",
       "    }\n",
       "</style>\n",
       "<table border=\"1\" class=\"dataframe\">\n",
       "  <thead>\n",
       "    <tr style=\"text-align: right;\">\n",
       "      <th></th>\n",
       "      <th>Area Code</th>\n",
       "      <th>Area</th>\n",
       "      <th>Year</th>\n",
       "      <th>Total Population (X 1000)</th>\n",
       "    </tr>\n",
       "  </thead>\n",
       "  <tbody>\n",
       "    <tr>\n",
       "      <th>11</th>\n",
       "      <td>2</td>\n",
       "      <td>Afghanistan</td>\n",
       "      <td>1961</td>\n",
       "      <td>9169.410</td>\n",
       "    </tr>\n",
       "    <tr>\n",
       "      <th>12</th>\n",
       "      <td>2</td>\n",
       "      <td>Afghanistan</td>\n",
       "      <td>1962</td>\n",
       "      <td>9351.441</td>\n",
       "    </tr>\n",
       "    <tr>\n",
       "      <th>13</th>\n",
       "      <td>2</td>\n",
       "      <td>Afghanistan</td>\n",
       "      <td>1963</td>\n",
       "      <td>9543.205</td>\n",
       "    </tr>\n",
       "    <tr>\n",
       "      <th>14</th>\n",
       "      <td>2</td>\n",
       "      <td>Afghanistan</td>\n",
       "      <td>1964</td>\n",
       "      <td>9744.781</td>\n",
       "    </tr>\n",
       "    <tr>\n",
       "      <th>15</th>\n",
       "      <td>2</td>\n",
       "      <td>Afghanistan</td>\n",
       "      <td>1965</td>\n",
       "      <td>9956.320</td>\n",
       "    </tr>\n",
       "    <tr>\n",
       "      <th>...</th>\n",
       "      <td>...</td>\n",
       "      <td>...</td>\n",
       "      <td>...</td>\n",
       "      <td>...</td>\n",
       "    </tr>\n",
       "    <tr>\n",
       "      <th>34263</th>\n",
       "      <td>181</td>\n",
       "      <td>Zimbabwe</td>\n",
       "      <td>2015</td>\n",
       "      <td>13814.629</td>\n",
       "    </tr>\n",
       "    <tr>\n",
       "      <th>34264</th>\n",
       "      <td>181</td>\n",
       "      <td>Zimbabwe</td>\n",
       "      <td>2016</td>\n",
       "      <td>14030.331</td>\n",
       "    </tr>\n",
       "    <tr>\n",
       "      <th>34265</th>\n",
       "      <td>181</td>\n",
       "      <td>Zimbabwe</td>\n",
       "      <td>2017</td>\n",
       "      <td>14236.595</td>\n",
       "    </tr>\n",
       "    <tr>\n",
       "      <th>34266</th>\n",
       "      <td>181</td>\n",
       "      <td>Zimbabwe</td>\n",
       "      <td>2018</td>\n",
       "      <td>14438.802</td>\n",
       "    </tr>\n",
       "    <tr>\n",
       "      <th>34267</th>\n",
       "      <td>181</td>\n",
       "      <td>Zimbabwe</td>\n",
       "      <td>2019</td>\n",
       "      <td>14645.468</td>\n",
       "    </tr>\n",
       "  </tbody>\n",
       "</table>\n",
       "<p>12886 rows × 4 columns</p>\n",
       "</div>"
      ],
      "text/plain": [
       "       Area Code         Area  Year  Total Population (X 1000)\n",
       "11             2  Afghanistan  1961                   9169.410\n",
       "12             2  Afghanistan  1962                   9351.441\n",
       "13             2  Afghanistan  1963                   9543.205\n",
       "14             2  Afghanistan  1964                   9744.781\n",
       "15             2  Afghanistan  1965                   9956.320\n",
       "...          ...          ...   ...                        ...\n",
       "34263        181     Zimbabwe  2015                  13814.629\n",
       "34264        181     Zimbabwe  2016                  14030.331\n",
       "34265        181     Zimbabwe  2017                  14236.595\n",
       "34266        181     Zimbabwe  2018                  14438.802\n",
       "34267        181     Zimbabwe  2019                  14645.468\n",
       "\n",
       "[12886 rows x 4 columns]"
      ]
     },
     "execution_count": 21,
     "metadata": {},
     "output_type": "execute_result"
    }
   ],
   "source": [
    "population_df5 = population_df4.loc[(population_df4['Year'] >= 1961) & (population_df4['Year'] <= 2019)]\n",
    "population_df5"
   ]
  },
  {
   "cell_type": "markdown",
   "metadata": {},
   "source": [
    "We are left with 12886 rows. The dataset looks pretty good and ready to be exported to a CSV file for combining it with the main processed data set."
   ]
  },
  {
   "cell_type": "markdown",
   "metadata": {},
   "source": [
    "Exporting the refined dataset to a folder containing refined/filtered data and working files."
   ]
  },
  {
   "cell_type": "code",
   "execution_count": null,
   "metadata": {},
   "outputs": [],
   "source": [
    "population_df5.to_csv(r'DataFiles/02-RefinedDataFiles/Population-REFINED.csv', index = False)"
   ]
  },
  {
   "cell_type": "markdown",
   "metadata": {},
   "source": [
    "### Summary of things done in this notebook:"
   ]
  },
  {
   "cell_type": "markdown",
   "metadata": {},
   "source": [
    "- Performed basic EDA.\n",
    "- Discarded region based statistics by applying filter on the 'Area' column.\n",
    "- Filtered population to incorporate combined statistics for both male and female.\n",
    "- Dropped redundant columns.\n",
    "- Incorporated more information in selected column names.\n",
    "- Exported the refined data to a CSV file.\n"
   ]
  }
 ],
 "metadata": {
  "interpreter": {
   "hash": "f048fb218df9a2a605f0fb9610e29eb0a529ecee93b7a6cb3f12b22b925683d9"
  },
  "kernelspec": {
   "display_name": "Python 3.10.0 ('CapstoneProject')",
   "language": "python",
   "name": "python3"
  },
  "language_info": {
   "codemirror_mode": {
    "name": "ipython",
    "version": 3
   },
   "file_extension": ".py",
   "mimetype": "text/x-python",
   "name": "python",
   "nbconvert_exporter": "python",
   "pygments_lexer": "ipython3",
   "version": "3.10.0"
  },
  "orig_nbformat": 4
 },
 "nbformat": 4,
 "nbformat_minor": 2
}
