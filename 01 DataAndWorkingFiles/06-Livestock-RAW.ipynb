{
 "cells": [
  {
   "cell_type": "markdown",
   "id": "18464183-d410-4fc7-af89-95b6890a7e28",
   "metadata": {},
   "source": [
    "***\n",
    "# Livestock (Raw Data Processing)\n",
    "Capstone Project - Ali Sehpar Shikoh\n",
    "***"
   ]
  },
  {
   "cell_type": "markdown",
   "metadata": {},
   "source": [
    "<b> Previous Notebook: FertilizerUse-RAW\n",
    "\n",
    "<b> Next Notebook: ManureApplied-RAW"
   ]
  },
  {
   "cell_type": "markdown",
   "metadata": {},
   "source": [
    "This the sixth notebook of the project and deals with the processing of data related to livestock statistics per country on yearly basis. The number of livestock units might be indicative of climate changes and thus might be indirectly related to the agricultural yield."
   ]
  },
  {
   "cell_type": "markdown",
   "metadata": {},
   "source": [
    "### Exploratory Data Analysis"
   ]
  },
  {
   "cell_type": "markdown",
   "metadata": {},
   "source": [
    "Importing pandas library."
   ]
  },
  {
   "cell_type": "code",
   "execution_count": 2,
   "metadata": {},
   "outputs": [],
   "source": [
    "import pandas as pd"
   ]
  },
  {
   "cell_type": "markdown",
   "metadata": {},
   "source": [
    "Importing csv file in dataframe called LiveStock_df1."
   ]
  },
  {
   "cell_type": "code",
   "execution_count": 3,
   "metadata": {},
   "outputs": [
    {
     "data": {
      "text/html": [
       "<div>\n",
       "<style scoped>\n",
       "    .dataframe tbody tr th:only-of-type {\n",
       "        vertical-align: middle;\n",
       "    }\n",
       "\n",
       "    .dataframe tbody tr th {\n",
       "        vertical-align: top;\n",
       "    }\n",
       "\n",
       "    .dataframe thead th {\n",
       "        text-align: right;\n",
       "    }\n",
       "</style>\n",
       "<table border=\"1\" class=\"dataframe\">\n",
       "  <thead>\n",
       "    <tr style=\"text-align: right;\">\n",
       "      <th></th>\n",
       "      <th>Domain Code</th>\n",
       "      <th>Domain</th>\n",
       "      <th>Area Code (FAO)</th>\n",
       "      <th>Area</th>\n",
       "      <th>Element Code</th>\n",
       "      <th>Element</th>\n",
       "      <th>Item Code</th>\n",
       "      <th>Item</th>\n",
       "      <th>Year Code</th>\n",
       "      <th>Year</th>\n",
       "      <th>Unit</th>\n",
       "      <th>Value</th>\n",
       "      <th>Flag</th>\n",
       "      <th>Flag Description</th>\n",
       "    </tr>\n",
       "  </thead>\n",
       "  <tbody>\n",
       "    <tr>\n",
       "      <th>0</th>\n",
       "      <td>EK</td>\n",
       "      <td>Livestock Patterns</td>\n",
       "      <td>2</td>\n",
       "      <td>Afghanistan</td>\n",
       "      <td>7213</td>\n",
       "      <td>Livestock units per agricultural land area</td>\n",
       "      <td>1752</td>\n",
       "      <td>Major livestock types</td>\n",
       "      <td>1961</td>\n",
       "      <td>1961</td>\n",
       "      <td>LSU/ha</td>\n",
       "      <td>0.14</td>\n",
       "      <td>Fc</td>\n",
       "      <td>Calculated data</td>\n",
       "    </tr>\n",
       "    <tr>\n",
       "      <th>1</th>\n",
       "      <td>EK</td>\n",
       "      <td>Livestock Patterns</td>\n",
       "      <td>2</td>\n",
       "      <td>Afghanistan</td>\n",
       "      <td>7213</td>\n",
       "      <td>Livestock units per agricultural land area</td>\n",
       "      <td>1752</td>\n",
       "      <td>Major livestock types</td>\n",
       "      <td>1962</td>\n",
       "      <td>1962</td>\n",
       "      <td>LSU/ha</td>\n",
       "      <td>0.14</td>\n",
       "      <td>Fc</td>\n",
       "      <td>Calculated data</td>\n",
       "    </tr>\n",
       "    <tr>\n",
       "      <th>2</th>\n",
       "      <td>EK</td>\n",
       "      <td>Livestock Patterns</td>\n",
       "      <td>2</td>\n",
       "      <td>Afghanistan</td>\n",
       "      <td>7213</td>\n",
       "      <td>Livestock units per agricultural land area</td>\n",
       "      <td>1752</td>\n",
       "      <td>Major livestock types</td>\n",
       "      <td>1963</td>\n",
       "      <td>1963</td>\n",
       "      <td>LSU/ha</td>\n",
       "      <td>0.14</td>\n",
       "      <td>Fc</td>\n",
       "      <td>Calculated data</td>\n",
       "    </tr>\n",
       "    <tr>\n",
       "      <th>3</th>\n",
       "      <td>EK</td>\n",
       "      <td>Livestock Patterns</td>\n",
       "      <td>2</td>\n",
       "      <td>Afghanistan</td>\n",
       "      <td>7213</td>\n",
       "      <td>Livestock units per agricultural land area</td>\n",
       "      <td>1752</td>\n",
       "      <td>Major livestock types</td>\n",
       "      <td>1964</td>\n",
       "      <td>1964</td>\n",
       "      <td>LSU/ha</td>\n",
       "      <td>0.15</td>\n",
       "      <td>Fc</td>\n",
       "      <td>Calculated data</td>\n",
       "    </tr>\n",
       "    <tr>\n",
       "      <th>4</th>\n",
       "      <td>EK</td>\n",
       "      <td>Livestock Patterns</td>\n",
       "      <td>2</td>\n",
       "      <td>Afghanistan</td>\n",
       "      <td>7213</td>\n",
       "      <td>Livestock units per agricultural land area</td>\n",
       "      <td>1752</td>\n",
       "      <td>Major livestock types</td>\n",
       "      <td>1965</td>\n",
       "      <td>1965</td>\n",
       "      <td>LSU/ha</td>\n",
       "      <td>0.15</td>\n",
       "      <td>Fc</td>\n",
       "      <td>Calculated data</td>\n",
       "    </tr>\n",
       "    <tr>\n",
       "      <th>...</th>\n",
       "      <td>...</td>\n",
       "      <td>...</td>\n",
       "      <td>...</td>\n",
       "      <td>...</td>\n",
       "      <td>...</td>\n",
       "      <td>...</td>\n",
       "      <td>...</td>\n",
       "      <td>...</td>\n",
       "      <td>...</td>\n",
       "      <td>...</td>\n",
       "      <td>...</td>\n",
       "      <td>...</td>\n",
       "      <td>...</td>\n",
       "      <td>...</td>\n",
       "    </tr>\n",
       "    <tr>\n",
       "      <th>22020</th>\n",
       "      <td>EK</td>\n",
       "      <td>Livestock Patterns</td>\n",
       "      <td>181</td>\n",
       "      <td>Zimbabwe</td>\n",
       "      <td>5118</td>\n",
       "      <td>Stocks</td>\n",
       "      <td>1752</td>\n",
       "      <td>Major livestock types</td>\n",
       "      <td>2015</td>\n",
       "      <td>2015</td>\n",
       "      <td>Livestock units (LSU)</td>\n",
       "      <td>3529759.20</td>\n",
       "      <td>A</td>\n",
       "      <td>Aggregate, may include official, semi-official...</td>\n",
       "    </tr>\n",
       "    <tr>\n",
       "      <th>22021</th>\n",
       "      <td>EK</td>\n",
       "      <td>Livestock Patterns</td>\n",
       "      <td>181</td>\n",
       "      <td>Zimbabwe</td>\n",
       "      <td>5118</td>\n",
       "      <td>Stocks</td>\n",
       "      <td>1752</td>\n",
       "      <td>Major livestock types</td>\n",
       "      <td>2016</td>\n",
       "      <td>2016</td>\n",
       "      <td>Livestock units (LSU)</td>\n",
       "      <td>3557201.40</td>\n",
       "      <td>A</td>\n",
       "      <td>Aggregate, may include official, semi-official...</td>\n",
       "    </tr>\n",
       "    <tr>\n",
       "      <th>22022</th>\n",
       "      <td>EK</td>\n",
       "      <td>Livestock Patterns</td>\n",
       "      <td>181</td>\n",
       "      <td>Zimbabwe</td>\n",
       "      <td>5118</td>\n",
       "      <td>Stocks</td>\n",
       "      <td>1752</td>\n",
       "      <td>Major livestock types</td>\n",
       "      <td>2017</td>\n",
       "      <td>2017</td>\n",
       "      <td>Livestock units (LSU)</td>\n",
       "      <td>3518697.90</td>\n",
       "      <td>A</td>\n",
       "      <td>Aggregate, may include official, semi-official...</td>\n",
       "    </tr>\n",
       "    <tr>\n",
       "      <th>22023</th>\n",
       "      <td>EK</td>\n",
       "      <td>Livestock Patterns</td>\n",
       "      <td>181</td>\n",
       "      <td>Zimbabwe</td>\n",
       "      <td>5118</td>\n",
       "      <td>Stocks</td>\n",
       "      <td>1752</td>\n",
       "      <td>Major livestock types</td>\n",
       "      <td>2018</td>\n",
       "      <td>2018</td>\n",
       "      <td>Livestock units (LSU)</td>\n",
       "      <td>3556852.90</td>\n",
       "      <td>A</td>\n",
       "      <td>Aggregate, may include official, semi-official...</td>\n",
       "    </tr>\n",
       "    <tr>\n",
       "      <th>22024</th>\n",
       "      <td>EK</td>\n",
       "      <td>Livestock Patterns</td>\n",
       "      <td>181</td>\n",
       "      <td>Zimbabwe</td>\n",
       "      <td>5118</td>\n",
       "      <td>Stocks</td>\n",
       "      <td>1752</td>\n",
       "      <td>Major livestock types</td>\n",
       "      <td>2019</td>\n",
       "      <td>2019</td>\n",
       "      <td>Livestock units (LSU)</td>\n",
       "      <td>3613308.50</td>\n",
       "      <td>A</td>\n",
       "      <td>Aggregate, may include official, semi-official...</td>\n",
       "    </tr>\n",
       "  </tbody>\n",
       "</table>\n",
       "<p>22025 rows × 14 columns</p>\n",
       "</div>"
      ],
      "text/plain": [
       "      Domain Code              Domain  Area Code (FAO)         Area  \\\n",
       "0              EK  Livestock Patterns                2  Afghanistan   \n",
       "1              EK  Livestock Patterns                2  Afghanistan   \n",
       "2              EK  Livestock Patterns                2  Afghanistan   \n",
       "3              EK  Livestock Patterns                2  Afghanistan   \n",
       "4              EK  Livestock Patterns                2  Afghanistan   \n",
       "...           ...                 ...              ...          ...   \n",
       "22020          EK  Livestock Patterns              181     Zimbabwe   \n",
       "22021          EK  Livestock Patterns              181     Zimbabwe   \n",
       "22022          EK  Livestock Patterns              181     Zimbabwe   \n",
       "22023          EK  Livestock Patterns              181     Zimbabwe   \n",
       "22024          EK  Livestock Patterns              181     Zimbabwe   \n",
       "\n",
       "       Element Code                                     Element  Item Code  \\\n",
       "0              7213  Livestock units per agricultural land area       1752   \n",
       "1              7213  Livestock units per agricultural land area       1752   \n",
       "2              7213  Livestock units per agricultural land area       1752   \n",
       "3              7213  Livestock units per agricultural land area       1752   \n",
       "4              7213  Livestock units per agricultural land area       1752   \n",
       "...             ...                                         ...        ...   \n",
       "22020          5118                                      Stocks       1752   \n",
       "22021          5118                                      Stocks       1752   \n",
       "22022          5118                                      Stocks       1752   \n",
       "22023          5118                                      Stocks       1752   \n",
       "22024          5118                                      Stocks       1752   \n",
       "\n",
       "                        Item  Year Code  Year                   Unit  \\\n",
       "0      Major livestock types       1961  1961                 LSU/ha   \n",
       "1      Major livestock types       1962  1962                 LSU/ha   \n",
       "2      Major livestock types       1963  1963                 LSU/ha   \n",
       "3      Major livestock types       1964  1964                 LSU/ha   \n",
       "4      Major livestock types       1965  1965                 LSU/ha   \n",
       "...                      ...        ...   ...                    ...   \n",
       "22020  Major livestock types       2015  2015  Livestock units (LSU)   \n",
       "22021  Major livestock types       2016  2016  Livestock units (LSU)   \n",
       "22022  Major livestock types       2017  2017  Livestock units (LSU)   \n",
       "22023  Major livestock types       2018  2018  Livestock units (LSU)   \n",
       "22024  Major livestock types       2019  2019  Livestock units (LSU)   \n",
       "\n",
       "            Value Flag                                   Flag Description  \n",
       "0            0.14   Fc                                    Calculated data  \n",
       "1            0.14   Fc                                    Calculated data  \n",
       "2            0.14   Fc                                    Calculated data  \n",
       "3            0.15   Fc                                    Calculated data  \n",
       "4            0.15   Fc                                    Calculated data  \n",
       "...           ...  ...                                                ...  \n",
       "22020  3529759.20    A  Aggregate, may include official, semi-official...  \n",
       "22021  3557201.40    A  Aggregate, may include official, semi-official...  \n",
       "22022  3518697.90    A  Aggregate, may include official, semi-official...  \n",
       "22023  3556852.90    A  Aggregate, may include official, semi-official...  \n",
       "22024  3613308.50    A  Aggregate, may include official, semi-official...  \n",
       "\n",
       "[22025 rows x 14 columns]"
      ]
     },
     "execution_count": 3,
     "metadata": {},
     "output_type": "execute_result"
    }
   ],
   "source": [
    "LiveStock_df1 = pd.read_csv('DataFiles/01-RawDataFiles/Livestock-RAW/Livestock-RAW.csv')\n",
    "LiveStock_df1"
   ]
  },
  {
   "cell_type": "markdown",
   "metadata": {},
   "source": [
    "Looking at individual columns."
   ]
  },
  {
   "cell_type": "code",
   "execution_count": 4,
   "metadata": {},
   "outputs": [
    {
     "data": {
      "text/plain": [
       "Index(['Domain Code', 'Domain', 'Area Code (FAO)', 'Area', 'Element Code',\n",
       "       'Element', 'Item Code', 'Item', 'Year Code', 'Year', 'Unit', 'Value',\n",
       "       'Flag', 'Flag Description'],\n",
       "      dtype='object')"
      ]
     },
     "execution_count": 4,
     "metadata": {},
     "output_type": "execute_result"
    }
   ],
   "source": [
    "LiveStock_df1.columns"
   ]
  },
  {
   "cell_type": "markdown",
   "metadata": {},
   "source": [
    "As seen there are a total of 14 columns."
   ]
  },
  {
   "cell_type": "markdown",
   "metadata": {},
   "source": [
    "Looking at 'Item' and 'Domain' columns."
   ]
  },
  {
   "cell_type": "code",
   "execution_count": 5,
   "metadata": {},
   "outputs": [
    {
     "data": {
      "text/plain": [
       "array(['Major livestock types'], dtype=object)"
      ]
     },
     "execution_count": 5,
     "metadata": {},
     "output_type": "execute_result"
    }
   ],
   "source": [
    "LiveStock_df1['Item'].unique()"
   ]
  },
  {
   "cell_type": "code",
   "execution_count": 6,
   "metadata": {},
   "outputs": [
    {
     "data": {
      "text/plain": [
       "array(['Livestock Patterns'], dtype=object)"
      ]
     },
     "execution_count": 6,
     "metadata": {},
     "output_type": "execute_result"
    }
   ],
   "source": [
    "LiveStock_df1['Domain'].unique()"
   ]
  },
  {
   "cell_type": "markdown",
   "metadata": {},
   "source": [
    "As seen above the 'Item' and 'Domain' columns only contain one categorical value i.e. 'Major livestock types' and 'Livestock Patterns'. Thus the information incorporated in these columns can easily be incorporated within other columns if required."
   ]
  },
  {
   "cell_type": "markdown",
   "metadata": {},
   "source": [
    "Looking at the 'Flag' column."
   ]
  },
  {
   "cell_type": "code",
   "execution_count": 7,
   "metadata": {},
   "outputs": [
    {
     "data": {
      "text/plain": [
       "array(['Fc', 'A'], dtype=object)"
      ]
     },
     "execution_count": 7,
     "metadata": {},
     "output_type": "execute_result"
    }
   ],
   "source": [
    "LiveStock_df1['Flag'].unique()"
   ]
  },
  {
   "cell_type": "markdown",
   "metadata": {},
   "source": [
    "As seen the 'Flag' column contains two flag types i.e. Fc and A. It is recommended not to remove any of the flags as various methodologies have been used to fill in the gaps within the dataset and minimize the null values. This will prove to be beneficial in making the data as extensive as possible."
   ]
  },
  {
   "cell_type": "markdown",
   "metadata": {},
   "source": [
    "Looking at the 'Element' column."
   ]
  },
  {
   "cell_type": "code",
   "execution_count": 8,
   "metadata": {},
   "outputs": [
    {
     "data": {
      "text/plain": [
       "array(['Livestock units per agricultural land area', 'Stocks'],\n",
       "      dtype=object)"
      ]
     },
     "execution_count": 8,
     "metadata": {},
     "output_type": "execute_result"
    }
   ],
   "source": [
    "LiveStock_df1['Element'].unique()"
   ]
  },
  {
   "cell_type": "markdown",
   "metadata": {},
   "source": [
    "As seen, the 'Element' column contains two different categories, i.e., 'Stocks' and 'Livestock units per agricultural land area'. Since both of the categories mentioned are somewhat similar, therefore, we will only be keeping 'Stocks' category for further analysis."
   ]
  },
  {
   "cell_type": "markdown",
   "metadata": {},
   "source": [
    "### Refined Dataset Creation and Exportation"
   ]
  },
  {
   "cell_type": "markdown",
   "metadata": {},
   "source": [
    "Filtering the dataset based 'Element' column where 'Element' is equal to 'Stocks' category. Dropping down redundant columns like 'Units', 'Flags', etc. Subsequently renaming the retained columns to convey more useful information."
   ]
  },
  {
   "cell_type": "code",
   "execution_count": 9,
   "metadata": {},
   "outputs": [
    {
     "name": "stderr",
     "output_type": "stream",
     "text": [
      "C:\\Users\\User\\AppData\\Local\\Temp\\ipykernel_3236\\2262468352.py:2: FutureWarning: In a future version of pandas all arguments of DataFrame.drop except for the argument 'labels' will be keyword-only.\n",
      "  LiveStock_df2 = LiveStock_df2.drop(['Domain', 'Domain Code', 'Element', 'Element Code', 'Item', 'Item Code', 'Year Code', 'Unit', 'Flag', 'Flag Description'], 1)\n"
     ]
    },
    {
     "data": {
      "text/html": [
       "<div>\n",
       "<style scoped>\n",
       "    .dataframe tbody tr th:only-of-type {\n",
       "        vertical-align: middle;\n",
       "    }\n",
       "\n",
       "    .dataframe tbody tr th {\n",
       "        vertical-align: top;\n",
       "    }\n",
       "\n",
       "    .dataframe thead th {\n",
       "        text-align: right;\n",
       "    }\n",
       "</style>\n",
       "<table border=\"1\" class=\"dataframe\">\n",
       "  <thead>\n",
       "    <tr style=\"text-align: right;\">\n",
       "      <th></th>\n",
       "      <th>Area Code</th>\n",
       "      <th>Area</th>\n",
       "      <th>Year</th>\n",
       "      <th>Livestock units</th>\n",
       "    </tr>\n",
       "  </thead>\n",
       "  <tbody>\n",
       "    <tr>\n",
       "      <th>59</th>\n",
       "      <td>2</td>\n",
       "      <td>Afghanistan</td>\n",
       "      <td>1961</td>\n",
       "      <td>5257236.40</td>\n",
       "    </tr>\n",
       "    <tr>\n",
       "      <th>60</th>\n",
       "      <td>2</td>\n",
       "      <td>Afghanistan</td>\n",
       "      <td>1962</td>\n",
       "      <td>5259200.50</td>\n",
       "    </tr>\n",
       "    <tr>\n",
       "      <th>61</th>\n",
       "      <td>2</td>\n",
       "      <td>Afghanistan</td>\n",
       "      <td>1963</td>\n",
       "      <td>5471475.75</td>\n",
       "    </tr>\n",
       "    <tr>\n",
       "      <th>62</th>\n",
       "      <td>2</td>\n",
       "      <td>Afghanistan</td>\n",
       "      <td>1964</td>\n",
       "      <td>5597970.00</td>\n",
       "    </tr>\n",
       "    <tr>\n",
       "      <th>63</th>\n",
       "      <td>2</td>\n",
       "      <td>Afghanistan</td>\n",
       "      <td>1965</td>\n",
       "      <td>5734080.00</td>\n",
       "    </tr>\n",
       "    <tr>\n",
       "      <th>...</th>\n",
       "      <td>...</td>\n",
       "      <td>...</td>\n",
       "      <td>...</td>\n",
       "      <td>...</td>\n",
       "    </tr>\n",
       "    <tr>\n",
       "      <th>22020</th>\n",
       "      <td>181</td>\n",
       "      <td>Zimbabwe</td>\n",
       "      <td>2015</td>\n",
       "      <td>3529759.20</td>\n",
       "    </tr>\n",
       "    <tr>\n",
       "      <th>22021</th>\n",
       "      <td>181</td>\n",
       "      <td>Zimbabwe</td>\n",
       "      <td>2016</td>\n",
       "      <td>3557201.40</td>\n",
       "    </tr>\n",
       "    <tr>\n",
       "      <th>22022</th>\n",
       "      <td>181</td>\n",
       "      <td>Zimbabwe</td>\n",
       "      <td>2017</td>\n",
       "      <td>3518697.90</td>\n",
       "    </tr>\n",
       "    <tr>\n",
       "      <th>22023</th>\n",
       "      <td>181</td>\n",
       "      <td>Zimbabwe</td>\n",
       "      <td>2018</td>\n",
       "      <td>3556852.90</td>\n",
       "    </tr>\n",
       "    <tr>\n",
       "      <th>22024</th>\n",
       "      <td>181</td>\n",
       "      <td>Zimbabwe</td>\n",
       "      <td>2019</td>\n",
       "      <td>3613308.50</td>\n",
       "    </tr>\n",
       "  </tbody>\n",
       "</table>\n",
       "<p>11042 rows × 4 columns</p>\n",
       "</div>"
      ],
      "text/plain": [
       "       Area Code         Area  Year  Livestock units\n",
       "59             2  Afghanistan  1961       5257236.40\n",
       "60             2  Afghanistan  1962       5259200.50\n",
       "61             2  Afghanistan  1963       5471475.75\n",
       "62             2  Afghanistan  1964       5597970.00\n",
       "63             2  Afghanistan  1965       5734080.00\n",
       "...          ...          ...   ...              ...\n",
       "22020        181     Zimbabwe  2015       3529759.20\n",
       "22021        181     Zimbabwe  2016       3557201.40\n",
       "22022        181     Zimbabwe  2017       3518697.90\n",
       "22023        181     Zimbabwe  2018       3556852.90\n",
       "22024        181     Zimbabwe  2019       3613308.50\n",
       "\n",
       "[11042 rows x 4 columns]"
      ]
     },
     "execution_count": 9,
     "metadata": {},
     "output_type": "execute_result"
    }
   ],
   "source": [
    "LiveStock_df2 = LiveStock_df1.loc[(LiveStock_df1['Element'] == 'Stocks')]\n",
    "LiveStock_df2 = LiveStock_df2.drop(['Domain', 'Domain Code', 'Element', 'Element Code', 'Item', 'Item Code', 'Year Code', 'Unit', 'Flag', 'Flag Description'], 1)\n",
    "LiveStock_df2.rename(columns = {'Area Code (FAO)':'Area Code', 'Value':'Livestock units'}, inplace = True)\n",
    "LiveStock_df2"
   ]
  },
  {
   "cell_type": "markdown",
   "metadata": {},
   "source": [
    "Exporting the refined dataset to a folder containing refined/filtered data and working files."
   ]
  },
  {
   "cell_type": "code",
   "execution_count": 10,
   "metadata": {},
   "outputs": [],
   "source": [
    "LiveStock_df2.to_csv(r'DataFiles/02-RefinedDataFiles/Livestock-REFINED.csv', index = False)"
   ]
  },
  {
   "cell_type": "markdown",
   "metadata": {},
   "source": [
    "### Summary of things done in this notebook:"
   ]
  },
  {
   "cell_type": "markdown",
   "metadata": {},
   "source": [
    "- Performed basic EDA.\n",
    "- Discarded region based statistics by applying filter on the 'Area' column.\n",
    "- Dropped redundant columns.\n",
    "- Incorporated more information in selected column names.\n",
    "- Exported the refined data to a CSV file.\n"
   ]
  }
 ],
 "metadata": {
  "interpreter": {
   "hash": "f048fb218df9a2a605f0fb9610e29eb0a529ecee93b7a6cb3f12b22b925683d9"
  },
  "kernelspec": {
   "display_name": "Python 3.10.0 ('CapstoneProject')",
   "language": "python",
   "name": "python3"
  },
  "language_info": {
   "codemirror_mode": {
    "name": "ipython",
    "version": 3
   },
   "file_extension": ".py",
   "mimetype": "text/x-python",
   "name": "python",
   "nbconvert_exporter": "python",
   "pygments_lexer": "ipython3",
   "version": "3.10.0"
  },
  "orig_nbformat": 4
 },
 "nbformat": 4,
 "nbformat_minor": 2
}
