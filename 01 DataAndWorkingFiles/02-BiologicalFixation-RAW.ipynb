{
 "cells": [
  {
   "cell_type": "markdown",
   "id": "18464183-d410-4fc7-af89-95b6890a7e28",
   "metadata": {},
   "source": [
    "***\n",
    "# Biological Fixation (Raw Data Processing)\n",
    "Capstone Project - Ali Sehpar Shikoh\n",
    "***"
   ]
  },
  {
   "cell_type": "markdown",
   "metadata": {},
   "source": [
    "<b> Previous Notebook: AtmosphericDeposition-RAW\n",
    "\n",
    "<b> Next Notebook: CropRemoval-RAW"
   ]
  },
  {
   "cell_type": "markdown",
   "metadata": {},
   "source": [
    "This is the second notebook of the project and deals with the cleaning of dataset related to 'Biological Fixation', i.e. a feature that could be affecting crop yield."
   ]
  },
  {
   "cell_type": "markdown",
   "metadata": {},
   "source": [
    "All plants, including forage crops, need relatively large amounts of nitrogen (N) for proper growth and development. Biological nitrogen fixation (BNF) or simply Biological fixation (BF) is the term used for a process in which nitrogen gas (N2) from the atmosphere is incorporated into the tissue of certain plants [1]. Only a few group of plants are able to obtain N this way, with the help of soil micro-organisms. Among forage plants, the group of plants known as legumes (plants in the botanical family Fabaceae) are well known for being able to obtain N from air N2."
   ]
  },
  {
   "cell_type": "markdown",
   "metadata": {},
   "source": [
    "### Exploratory Data Analysis"
   ]
  },
  {
   "cell_type": "markdown",
   "metadata": {},
   "source": [
    "Importing package(s)."
   ]
  },
  {
   "cell_type": "code",
   "execution_count": 1,
   "metadata": {},
   "outputs": [],
   "source": [
    "import pandas as pd"
   ]
  },
  {
   "cell_type": "markdown",
   "metadata": {},
   "source": [
    "Importing csv file in dataframe called BioFix_df1."
   ]
  },
  {
   "cell_type": "code",
   "execution_count": 2,
   "metadata": {},
   "outputs": [],
   "source": [
    "BioFix_df1 = pd.read_csv('DataFiles/01-RawDataFiles/BiologicalFixation-RAW/BiologicalFixation-RAW.csv')"
   ]
  },
  {
   "cell_type": "markdown",
   "metadata": {},
   "source": [
    "Checking the shape of the dataframe."
   ]
  },
  {
   "cell_type": "code",
   "execution_count": 5,
   "metadata": {},
   "outputs": [
    {
     "data": {
      "text/plain": [
       "(8989, 14)"
      ]
     },
     "execution_count": 5,
     "metadata": {},
     "output_type": "execute_result"
    }
   ],
   "source": [
    "BioFix_df1.shape"
   ]
  },
  {
   "cell_type": "markdown",
   "metadata": {},
   "source": [
    "As seen the dataframe consists of about 9 thousand rows and 14 columns."
   ]
  },
  {
   "cell_type": "markdown",
   "metadata": {},
   "source": [
    "Checking the data contents of the dataframe."
   ]
  },
  {
   "cell_type": "code",
   "execution_count": 6,
   "metadata": {},
   "outputs": [
    {
     "data": {
      "text/html": [
       "<div>\n",
       "<style scoped>\n",
       "    .dataframe tbody tr th:only-of-type {\n",
       "        vertical-align: middle;\n",
       "    }\n",
       "\n",
       "    .dataframe tbody tr th {\n",
       "        vertical-align: top;\n",
       "    }\n",
       "\n",
       "    .dataframe thead th {\n",
       "        text-align: right;\n",
       "    }\n",
       "</style>\n",
       "<table border=\"1\" class=\"dataframe\">\n",
       "  <thead>\n",
       "    <tr style=\"text-align: right;\">\n",
       "      <th></th>\n",
       "      <th>Domain Code</th>\n",
       "      <th>Domain</th>\n",
       "      <th>Area Code (FAO)</th>\n",
       "      <th>Area</th>\n",
       "      <th>Element Code</th>\n",
       "      <th>Element</th>\n",
       "      <th>Item Code</th>\n",
       "      <th>Item</th>\n",
       "      <th>Year Code</th>\n",
       "      <th>Year</th>\n",
       "      <th>Unit</th>\n",
       "      <th>Value</th>\n",
       "      <th>Flag</th>\n",
       "      <th>Flag Description</th>\n",
       "    </tr>\n",
       "  </thead>\n",
       "  <tbody>\n",
       "    <tr>\n",
       "      <th>0</th>\n",
       "      <td>ESB</td>\n",
       "      <td>Soil nutrient budget</td>\n",
       "      <td>3</td>\n",
       "      <td>Albania</td>\n",
       "      <td>7275</td>\n",
       "      <td>Cropland nutrient flow</td>\n",
       "      <td>5078</td>\n",
       "      <td>Biological Fixation</td>\n",
       "      <td>1961</td>\n",
       "      <td>1961</td>\n",
       "      <td>tonnes</td>\n",
       "      <td>277.41</td>\n",
       "      <td>Fc</td>\n",
       "      <td>Calculated data</td>\n",
       "    </tr>\n",
       "    <tr>\n",
       "      <th>1</th>\n",
       "      <td>ESB</td>\n",
       "      <td>Soil nutrient budget</td>\n",
       "      <td>3</td>\n",
       "      <td>Albania</td>\n",
       "      <td>7275</td>\n",
       "      <td>Cropland nutrient flow</td>\n",
       "      <td>5078</td>\n",
       "      <td>Biological Fixation</td>\n",
       "      <td>1962</td>\n",
       "      <td>1962</td>\n",
       "      <td>tonnes</td>\n",
       "      <td>267.87</td>\n",
       "      <td>Fc</td>\n",
       "      <td>Calculated data</td>\n",
       "    </tr>\n",
       "  </tbody>\n",
       "</table>\n",
       "</div>"
      ],
      "text/plain": [
       "  Domain Code                Domain  Area Code (FAO)     Area  Element Code  \\\n",
       "0         ESB  Soil nutrient budget                3  Albania          7275   \n",
       "1         ESB  Soil nutrient budget                3  Albania          7275   \n",
       "\n",
       "                  Element  Item Code                 Item  Year Code  Year  \\\n",
       "0  Cropland nutrient flow       5078  Biological Fixation       1961  1961   \n",
       "1  Cropland nutrient flow       5078  Biological Fixation       1962  1962   \n",
       "\n",
       "     Unit   Value Flag Flag Description  \n",
       "0  tonnes  277.41   Fc  Calculated data  \n",
       "1  tonnes  267.87   Fc  Calculated data  "
      ]
     },
     "execution_count": 6,
     "metadata": {},
     "output_type": "execute_result"
    }
   ],
   "source": [
    "BioFix_df1.head(2)"
   ]
  },
  {
   "cell_type": "markdown",
   "metadata": {},
   "source": [
    "As seen, the data frame consists of variable columns containing information such as Domain, Element, Item and Flag names. We do not require all of these columns."
   ]
  },
  {
   "cell_type": "markdown",
   "metadata": {},
   "source": [
    "Checking the datatypes of each of the columns."
   ]
  },
  {
   "cell_type": "code",
   "execution_count": 7,
   "metadata": {},
   "outputs": [
    {
     "name": "stdout",
     "output_type": "stream",
     "text": [
      "<class 'pandas.core.frame.DataFrame'>\n",
      "RangeIndex: 8989 entries, 0 to 8988\n",
      "Data columns (total 14 columns):\n",
      " #   Column            Non-Null Count  Dtype  \n",
      "---  ------            --------------  -----  \n",
      " 0   Domain Code       8989 non-null   object \n",
      " 1   Domain            8989 non-null   object \n",
      " 2   Area Code (FAO)   8989 non-null   int64  \n",
      " 3   Area              8989 non-null   object \n",
      " 4   Element Code      8989 non-null   int64  \n",
      " 5   Element           8989 non-null   object \n",
      " 6   Item Code         8989 non-null   int64  \n",
      " 7   Item              8989 non-null   object \n",
      " 8   Year Code         8989 non-null   int64  \n",
      " 9   Year              8989 non-null   int64  \n",
      " 10  Unit              8989 non-null   object \n",
      " 11  Value             8989 non-null   float64\n",
      " 12  Flag              8989 non-null   object \n",
      " 13  Flag Description  8989 non-null   object \n",
      "dtypes: float64(1), int64(5), object(8)\n",
      "memory usage: 983.3+ KB\n"
     ]
    }
   ],
   "source": [
    "BioFix_df1.info()"
   ]
  },
  {
   "cell_type": "markdown",
   "metadata": {},
   "source": [
    "As seen above the dataset contains a mix of numerical and categorical columns. A total of 8 columns were of object data type whereas 5 columns were of int64 data type. Only one column was found to have float64 data type. All the above mentioned data types were found to be an appropriate fit for the respective columns."
   ]
  },
  {
   "cell_type": "markdown",
   "metadata": {},
   "source": [
    "Checking for null values."
   ]
  },
  {
   "cell_type": "code",
   "execution_count": 8,
   "metadata": {},
   "outputs": [
    {
     "data": {
      "text/plain": [
       "Domain Code         0\n",
       "Domain              0\n",
       "Area Code (FAO)     0\n",
       "Area                0\n",
       "Element Code        0\n",
       "Element             0\n",
       "Item Code           0\n",
       "Item                0\n",
       "Year Code           0\n",
       "Year                0\n",
       "Unit                0\n",
       "Value               0\n",
       "Flag                0\n",
       "Flag Description    0\n",
       "dtype: int64"
      ]
     },
     "execution_count": 8,
     "metadata": {},
     "output_type": "execute_result"
    }
   ],
   "source": [
    "BioFix_df1.isnull().sum()"
   ]
  },
  {
   "cell_type": "markdown",
   "metadata": {},
   "source": [
    "The dataset does not contain any null values."
   ]
  },
  {
   "cell_type": "markdown",
   "metadata": {},
   "source": [
    "The dataset also does not contain any duplicate values."
   ]
  },
  {
   "cell_type": "code",
   "execution_count": 9,
   "metadata": {},
   "outputs": [
    {
     "data": {
      "text/plain": [
       "0"
      ]
     },
     "execution_count": 9,
     "metadata": {},
     "output_type": "execute_result"
    }
   ],
   "source": [
    "BioFix_df1.duplicated().sum()"
   ]
  },
  {
   "cell_type": "markdown",
   "metadata": {},
   "source": [
    "In order to know more about the dataset checking unique values in each column."
   ]
  },
  {
   "cell_type": "markdown",
   "metadata": {},
   "source": [
    "Starting off with the 'Year' column."
   ]
  },
  {
   "cell_type": "code",
   "execution_count": 10,
   "metadata": {},
   "outputs": [
    {
     "data": {
      "text/plain": [
       "array([1961, 1962, 1963, 1964, 1965, 1966, 1967, 1968, 1969, 1970, 1971,\n",
       "       1972, 1973, 1974, 1975, 1976, 1977, 1978, 1979, 1980, 1981, 1982,\n",
       "       1983, 1984, 1985, 1986, 1987, 1988, 1989, 1990, 1991, 1992, 1993,\n",
       "       1994, 1995, 1996, 1997, 1998, 1999, 2000, 2001, 2002, 2003, 2004,\n",
       "       2005, 2006, 2007, 2008, 2009, 2010, 2011, 2012, 2013, 2014, 2015,\n",
       "       2016, 2017, 2018], dtype=int64)"
      ]
     },
     "execution_count": 10,
     "metadata": {},
     "output_type": "execute_result"
    }
   ],
   "source": [
    "BioFix_df1['Year'].unique()"
   ]
  },
  {
   "cell_type": "markdown",
   "metadata": {},
   "source": [
    "The year column comprises of values ranging from 1961 to 2018."
   ]
  },
  {
   "cell_type": "markdown",
   "metadata": {},
   "source": [
    "Checking the 'Flag', 'Element' and 'Item' columns."
   ]
  },
  {
   "cell_type": "code",
   "execution_count": 11,
   "metadata": {},
   "outputs": [
    {
     "data": {
      "text/plain": [
       "array(['Fc'], dtype=object)"
      ]
     },
     "execution_count": 11,
     "metadata": {},
     "output_type": "execute_result"
    }
   ],
   "source": [
    "BioFix_df1['Flag'].unique() # Flag: Relates to the method used to collect data."
   ]
  },
  {
   "cell_type": "code",
   "execution_count": 13,
   "metadata": {},
   "outputs": [
    {
     "data": {
      "text/plain": [
       "array(['Cropland nutrient flow'], dtype=object)"
      ]
     },
     "execution_count": 13,
     "metadata": {},
     "output_type": "execute_result"
    }
   ],
   "source": [
    "BioFix_df1['Element'].unique() # Element: Relates to the main categories of interest."
   ]
  },
  {
   "cell_type": "code",
   "execution_count": 12,
   "metadata": {},
   "outputs": [
    {
     "data": {
      "text/plain": [
       "array(['Biological Fixation'], dtype=object)"
      ]
     },
     "execution_count": 12,
     "metadata": {},
     "output_type": "execute_result"
    }
   ],
   "source": [
    "BioFix_df1['Item'].unique() # Item: Relates to the main subcategories of interest."
   ]
  },
  {
   "cell_type": "markdown",
   "metadata": {},
   "source": [
    "As seen the 'Flag', 'Item' and 'Element' columns only contain one value each and thus can be dropped as they either do not provide any useful information or the information conveyed could easily be incorporated into other relevant columns."
   ]
  },
  {
   "cell_type": "markdown",
   "metadata": {},
   "source": [
    "### Refined Dataset Creation and Exportation"
   ]
  },
  {
   "cell_type": "markdown",
   "metadata": {},
   "source": [
    "Based on the initial analysis, it is clear that only four columns are of value i.e. 'Area Code (FAO)', 'Area', 'Year' and 'Value'. Since the names of these columns are not perfect, therefore, they need to be renamed to either include more information or discard redundant information."
   ]
  },
  {
   "cell_type": "markdown",
   "metadata": {},
   "source": [
    "Creating a new dataframe called 'BioFix_df2' consisting only the columns of interest."
   ]
  },
  {
   "cell_type": "code",
   "execution_count": 15,
   "metadata": {},
   "outputs": [
    {
     "name": "stderr",
     "output_type": "stream",
     "text": [
      "C:\\Users\\User\\AppData\\Local\\Temp\\ipykernel_17472\\1413737033.py:2: SettingWithCopyWarning: \n",
      "A value is trying to be set on a copy of a slice from a DataFrame\n",
      "\n",
      "See the caveats in the documentation: https://pandas.pydata.org/pandas-docs/stable/user_guide/indexing.html#returning-a-view-versus-a-copy\n",
      "  BioFix_df2.rename(columns = {'Area Code (FAO)':'Area Code', 'Value':'Biological Fixation (tonnes)'}, inplace = True)\n"
     ]
    },
    {
     "data": {
      "text/html": [
       "<div>\n",
       "<style scoped>\n",
       "    .dataframe tbody tr th:only-of-type {\n",
       "        vertical-align: middle;\n",
       "    }\n",
       "\n",
       "    .dataframe tbody tr th {\n",
       "        vertical-align: top;\n",
       "    }\n",
       "\n",
       "    .dataframe thead th {\n",
       "        text-align: right;\n",
       "    }\n",
       "</style>\n",
       "<table border=\"1\" class=\"dataframe\">\n",
       "  <thead>\n",
       "    <tr style=\"text-align: right;\">\n",
       "      <th></th>\n",
       "      <th>Area Code</th>\n",
       "      <th>Area</th>\n",
       "      <th>Year</th>\n",
       "      <th>Biological Fixation (tonnes)</th>\n",
       "    </tr>\n",
       "  </thead>\n",
       "  <tbody>\n",
       "    <tr>\n",
       "      <th>0</th>\n",
       "      <td>3</td>\n",
       "      <td>Albania</td>\n",
       "      <td>1961</td>\n",
       "      <td>277.41</td>\n",
       "    </tr>\n",
       "    <tr>\n",
       "      <th>1</th>\n",
       "      <td>3</td>\n",
       "      <td>Albania</td>\n",
       "      <td>1962</td>\n",
       "      <td>267.87</td>\n",
       "    </tr>\n",
       "    <tr>\n",
       "      <th>2</th>\n",
       "      <td>3</td>\n",
       "      <td>Albania</td>\n",
       "      <td>1963</td>\n",
       "      <td>420.48</td>\n",
       "    </tr>\n",
       "    <tr>\n",
       "      <th>3</th>\n",
       "      <td>3</td>\n",
       "      <td>Albania</td>\n",
       "      <td>1964</td>\n",
       "      <td>383.70</td>\n",
       "    </tr>\n",
       "    <tr>\n",
       "      <th>4</th>\n",
       "      <td>3</td>\n",
       "      <td>Albania</td>\n",
       "      <td>1965</td>\n",
       "      <td>250.77</td>\n",
       "    </tr>\n",
       "    <tr>\n",
       "      <th>...</th>\n",
       "      <td>...</td>\n",
       "      <td>...</td>\n",
       "      <td>...</td>\n",
       "      <td>...</td>\n",
       "    </tr>\n",
       "    <tr>\n",
       "      <th>8984</th>\n",
       "      <td>181</td>\n",
       "      <td>Zimbabwe</td>\n",
       "      <td>2014</td>\n",
       "      <td>9012.87</td>\n",
       "    </tr>\n",
       "    <tr>\n",
       "      <th>8985</th>\n",
       "      <td>181</td>\n",
       "      <td>Zimbabwe</td>\n",
       "      <td>2015</td>\n",
       "      <td>6420.84</td>\n",
       "    </tr>\n",
       "    <tr>\n",
       "      <th>8986</th>\n",
       "      <td>181</td>\n",
       "      <td>Zimbabwe</td>\n",
       "      <td>2016</td>\n",
       "      <td>6500.15</td>\n",
       "    </tr>\n",
       "    <tr>\n",
       "      <th>8987</th>\n",
       "      <td>181</td>\n",
       "      <td>Zimbabwe</td>\n",
       "      <td>2017</td>\n",
       "      <td>7971.18</td>\n",
       "    </tr>\n",
       "    <tr>\n",
       "      <th>8988</th>\n",
       "      <td>181</td>\n",
       "      <td>Zimbabwe</td>\n",
       "      <td>2018</td>\n",
       "      <td>9717.04</td>\n",
       "    </tr>\n",
       "  </tbody>\n",
       "</table>\n",
       "<p>8989 rows × 4 columns</p>\n",
       "</div>"
      ],
      "text/plain": [
       "      Area Code      Area  Year  Biological Fixation (tonnes)\n",
       "0             3   Albania  1961                        277.41\n",
       "1             3   Albania  1962                        267.87\n",
       "2             3   Albania  1963                        420.48\n",
       "3             3   Albania  1964                        383.70\n",
       "4             3   Albania  1965                        250.77\n",
       "...         ...       ...   ...                           ...\n",
       "8984        181  Zimbabwe  2014                       9012.87\n",
       "8985        181  Zimbabwe  2015                       6420.84\n",
       "8986        181  Zimbabwe  2016                       6500.15\n",
       "8987        181  Zimbabwe  2017                       7971.18\n",
       "8988        181  Zimbabwe  2018                       9717.04\n",
       "\n",
       "[8989 rows x 4 columns]"
      ]
     },
     "execution_count": 15,
     "metadata": {},
     "output_type": "execute_result"
    }
   ],
   "source": [
    "BioFix_df2 = BioFix_df1[['Area Code (FAO)', 'Area', 'Year', 'Value']]\n",
    "BioFix_df2.rename(columns = {'Area Code (FAO)':'Area Code', 'Value':'Biological Fixation (tonnes)'}, inplace = True) #renaming columns to maximize the incorporation of meaningful information.\n",
    "BioFix_df2"
   ]
  },
  {
   "cell_type": "markdown",
   "metadata": {},
   "source": [
    "The above refined dataset consisting of around 8 thousand rows and 4 columns incorporates all the information related to 'Biological Fixation' and thus can readily be exported."
   ]
  },
  {
   "cell_type": "markdown",
   "metadata": {},
   "source": [
    "Exporting the refined dataset to a data folder containing defined datasets."
   ]
  },
  {
   "cell_type": "code",
   "execution_count": 16,
   "metadata": {},
   "outputs": [],
   "source": [
    "BioFix_df2.to_csv(r'DataFiles/02-RefinedDataFiles/BiologicalFixation-REFINED.csv', index = False)"
   ]
  },
  {
   "cell_type": "markdown",
   "metadata": {},
   "source": [
    "### Summary of things done in this notebook:"
   ]
  },
  {
   "cell_type": "markdown",
   "metadata": {},
   "source": [
    "- Performed basic EDA.\n",
    "- Discarded region based statistics by applying filter on the 'Area' column.\n",
    "- Dropped redundant columns.\n",
    "- Incorporated more information in selected column names.\n",
    "- Exported the refined data to a CSV file.\n"
   ]
  },
  {
   "cell_type": "markdown",
   "metadata": {},
   "source": [
    "### References"
   ]
  },
  {
   "cell_type": "markdown",
   "metadata": {},
   "source": [
    "[1] “Define Biological Nitrogen Fixation (BNF) and Explain Its Importance.” Forage Information System, 2 June 2009, https://forages.oregonstate.edu/nfgc/eo/onlineforagecurriculum/instructormaterials/availabletopics/nitrogenfixation/definition."
   ]
  }
 ],
 "metadata": {
  "interpreter": {
   "hash": "4e0ecf240a2237af60f196a84adeba0ca0a1ff354ccde9b7e6f35a8a48df90f4"
  },
  "kernelspec": {
   "display_name": "Python 3.10.0 ('CapstoneProject')",
   "language": "python",
   "name": "python3"
  },
  "language_info": {
   "codemirror_mode": {
    "name": "ipython",
    "version": 3
   },
   "file_extension": ".py",
   "mimetype": "text/x-python",
   "name": "python",
   "nbconvert_exporter": "python",
   "pygments_lexer": "ipython3",
   "version": "3.10.0"
  },
  "orig_nbformat": 4
 },
 "nbformat": 4,
 "nbformat_minor": 2
}
