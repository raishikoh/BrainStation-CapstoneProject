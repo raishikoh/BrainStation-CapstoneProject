{
 "cells": [
  {
   "cell_type": "markdown",
   "id": "18464183-d410-4fc7-af89-95b6890a7e28",
   "metadata": {},
   "source": [
    "***\n",
    "# Manure Applied (Raw Data Processing)\n",
    "Capstone Project - Ali Sehpar Shikoh\n",
    "***"
   ]
  },
  {
   "cell_type": "markdown",
   "metadata": {},
   "source": [
    "<b> Previous Notebook: Livestock-RAW\n",
    "\n",
    "<b> Next Notebook: Population-RAW"
   ]
  },
  {
   "cell_type": "markdown",
   "metadata": {},
   "source": [
    "This is the seventh notebook of the project and deals with the cleaning of dataset related to 'Manure Applied', i.e. a feature that could be affecting crop yield."
   ]
  },
  {
   "cell_type": "markdown",
   "metadata": {},
   "source": [
    "Manure is the decomposed form of dead plants and animals [1]. Its applications support crop production, maintain soil fertility, and recycle locally available nutrients in cold humid temperate regions, consistent with the principles of sustainable agriculture. Manure may be an excellent nitrogen (N) fertilizer for crops if it provides plant-available N as ammonium and from organic N mineralization in synchrony with crop N demands [2]. This notebook deals with the processing of data related to the manure applied to the soil."
   ]
  },
  {
   "cell_type": "markdown",
   "metadata": {},
   "source": [
    "### Exploratory Data Analysis"
   ]
  },
  {
   "cell_type": "markdown",
   "metadata": {},
   "source": [
    "Importing pandas library."
   ]
  },
  {
   "cell_type": "code",
   "execution_count": 1,
   "metadata": {},
   "outputs": [],
   "source": [
    "import pandas as pd"
   ]
  },
  {
   "cell_type": "markdown",
   "metadata": {},
   "source": [
    "Importing csv file in dataframe called Manure_df1 and looking at the imported dataset."
   ]
  },
  {
   "cell_type": "code",
   "execution_count": 2,
   "metadata": {},
   "outputs": [
    {
     "data": {
      "text/html": [
       "<div>\n",
       "<style scoped>\n",
       "    .dataframe tbody tr th:only-of-type {\n",
       "        vertical-align: middle;\n",
       "    }\n",
       "\n",
       "    .dataframe tbody tr th {\n",
       "        vertical-align: top;\n",
       "    }\n",
       "\n",
       "    .dataframe thead th {\n",
       "        text-align: right;\n",
       "    }\n",
       "</style>\n",
       "<table border=\"1\" class=\"dataframe\">\n",
       "  <thead>\n",
       "    <tr style=\"text-align: right;\">\n",
       "      <th></th>\n",
       "      <th>Domain Code</th>\n",
       "      <th>Domain</th>\n",
       "      <th>Area Code (FAO)</th>\n",
       "      <th>Area</th>\n",
       "      <th>Element Code</th>\n",
       "      <th>Element</th>\n",
       "      <th>Item Code</th>\n",
       "      <th>Item</th>\n",
       "      <th>Year Code</th>\n",
       "      <th>Year</th>\n",
       "      <th>Source Code</th>\n",
       "      <th>Source</th>\n",
       "      <th>Unit</th>\n",
       "      <th>Value</th>\n",
       "      <th>Flag</th>\n",
       "      <th>Flag Description</th>\n",
       "      <th>Note</th>\n",
       "    </tr>\n",
       "  </thead>\n",
       "  <tbody>\n",
       "    <tr>\n",
       "      <th>0</th>\n",
       "      <td>GU</td>\n",
       "      <td>Manure applied to Soils</td>\n",
       "      <td>2</td>\n",
       "      <td>Afghanistan</td>\n",
       "      <td>72381</td>\n",
       "      <td>Manure applied to soils (N content)</td>\n",
       "      <td>1755</td>\n",
       "      <td>All Animals</td>\n",
       "      <td>1961</td>\n",
       "      <td>1961</td>\n",
       "      <td>3050</td>\n",
       "      <td>FAO TIER 1</td>\n",
       "      <td>kg</td>\n",
       "      <td>5.624520e+07</td>\n",
       "      <td>A</td>\n",
       "      <td>Aggregate, may include official, semi-official...</td>\n",
       "      <td>NaN</td>\n",
       "    </tr>\n",
       "    <tr>\n",
       "      <th>1</th>\n",
       "      <td>GU</td>\n",
       "      <td>Manure applied to Soils</td>\n",
       "      <td>2</td>\n",
       "      <td>Afghanistan</td>\n",
       "      <td>723812</td>\n",
       "      <td>Manure applied to soils that leaches (N content)</td>\n",
       "      <td>1755</td>\n",
       "      <td>All Animals</td>\n",
       "      <td>1961</td>\n",
       "      <td>1961</td>\n",
       "      <td>3050</td>\n",
       "      <td>FAO TIER 1</td>\n",
       "      <td>kg</td>\n",
       "      <td>1.687356e+07</td>\n",
       "      <td>A</td>\n",
       "      <td>Aggregate, may include official, semi-official...</td>\n",
       "      <td>NaN</td>\n",
       "    </tr>\n",
       "    <tr>\n",
       "      <th>2</th>\n",
       "      <td>GU</td>\n",
       "      <td>Manure applied to Soils</td>\n",
       "      <td>2</td>\n",
       "      <td>Afghanistan</td>\n",
       "      <td>723811</td>\n",
       "      <td>Manure applied to soils that volatilises (N co...</td>\n",
       "      <td>1755</td>\n",
       "      <td>All Animals</td>\n",
       "      <td>1961</td>\n",
       "      <td>1961</td>\n",
       "      <td>3050</td>\n",
       "      <td>FAO TIER 1</td>\n",
       "      <td>kg</td>\n",
       "      <td>1.124904e+07</td>\n",
       "      <td>A</td>\n",
       "      <td>Aggregate, may include official, semi-official...</td>\n",
       "      <td>NaN</td>\n",
       "    </tr>\n",
       "    <tr>\n",
       "      <th>3</th>\n",
       "      <td>GU</td>\n",
       "      <td>Manure applied to Soils</td>\n",
       "      <td>2</td>\n",
       "      <td>Afghanistan</td>\n",
       "      <td>72381</td>\n",
       "      <td>Manure applied to soils (N content)</td>\n",
       "      <td>1755</td>\n",
       "      <td>All Animals</td>\n",
       "      <td>1962</td>\n",
       "      <td>1962</td>\n",
       "      <td>3050</td>\n",
       "      <td>FAO TIER 1</td>\n",
       "      <td>kg</td>\n",
       "      <td>5.704647e+07</td>\n",
       "      <td>A</td>\n",
       "      <td>Aggregate, may include official, semi-official...</td>\n",
       "      <td>NaN</td>\n",
       "    </tr>\n",
       "    <tr>\n",
       "      <th>4</th>\n",
       "      <td>GU</td>\n",
       "      <td>Manure applied to Soils</td>\n",
       "      <td>2</td>\n",
       "      <td>Afghanistan</td>\n",
       "      <td>723812</td>\n",
       "      <td>Manure applied to soils that leaches (N content)</td>\n",
       "      <td>1755</td>\n",
       "      <td>All Animals</td>\n",
       "      <td>1962</td>\n",
       "      <td>1962</td>\n",
       "      <td>3050</td>\n",
       "      <td>FAO TIER 1</td>\n",
       "      <td>kg</td>\n",
       "      <td>1.711394e+07</td>\n",
       "      <td>A</td>\n",
       "      <td>Aggregate, may include official, semi-official...</td>\n",
       "      <td>NaN</td>\n",
       "    </tr>\n",
       "    <tr>\n",
       "      <th>...</th>\n",
       "      <td>...</td>\n",
       "      <td>...</td>\n",
       "      <td>...</td>\n",
       "      <td>...</td>\n",
       "      <td>...</td>\n",
       "      <td>...</td>\n",
       "      <td>...</td>\n",
       "      <td>...</td>\n",
       "      <td>...</td>\n",
       "      <td>...</td>\n",
       "      <td>...</td>\n",
       "      <td>...</td>\n",
       "      <td>...</td>\n",
       "      <td>...</td>\n",
       "      <td>...</td>\n",
       "      <td>...</td>\n",
       "      <td>...</td>\n",
       "    </tr>\n",
       "    <tr>\n",
       "      <th>33277</th>\n",
       "      <td>GU</td>\n",
       "      <td>Manure applied to Soils</td>\n",
       "      <td>181</td>\n",
       "      <td>Zimbabwe</td>\n",
       "      <td>723812</td>\n",
       "      <td>Manure applied to soils that leaches (N content)</td>\n",
       "      <td>1755</td>\n",
       "      <td>All Animals</td>\n",
       "      <td>2018</td>\n",
       "      <td>2018</td>\n",
       "      <td>3050</td>\n",
       "      <td>FAO TIER 1</td>\n",
       "      <td>kg</td>\n",
       "      <td>4.073850e+06</td>\n",
       "      <td>A</td>\n",
       "      <td>Aggregate, may include official, semi-official...</td>\n",
       "      <td>NaN</td>\n",
       "    </tr>\n",
       "    <tr>\n",
       "      <th>33278</th>\n",
       "      <td>GU</td>\n",
       "      <td>Manure applied to Soils</td>\n",
       "      <td>181</td>\n",
       "      <td>Zimbabwe</td>\n",
       "      <td>723811</td>\n",
       "      <td>Manure applied to soils that volatilises (N co...</td>\n",
       "      <td>1755</td>\n",
       "      <td>All Animals</td>\n",
       "      <td>2018</td>\n",
       "      <td>2018</td>\n",
       "      <td>3050</td>\n",
       "      <td>FAO TIER 1</td>\n",
       "      <td>kg</td>\n",
       "      <td>2.715900e+06</td>\n",
       "      <td>A</td>\n",
       "      <td>Aggregate, may include official, semi-official...</td>\n",
       "      <td>NaN</td>\n",
       "    </tr>\n",
       "    <tr>\n",
       "      <th>33279</th>\n",
       "      <td>GU</td>\n",
       "      <td>Manure applied to Soils</td>\n",
       "      <td>181</td>\n",
       "      <td>Zimbabwe</td>\n",
       "      <td>72381</td>\n",
       "      <td>Manure applied to soils (N content)</td>\n",
       "      <td>1755</td>\n",
       "      <td>All Animals</td>\n",
       "      <td>2019</td>\n",
       "      <td>2019</td>\n",
       "      <td>3050</td>\n",
       "      <td>FAO TIER 1</td>\n",
       "      <td>kg</td>\n",
       "      <td>1.483084e+07</td>\n",
       "      <td>A</td>\n",
       "      <td>Aggregate, may include official, semi-official...</td>\n",
       "      <td>NaN</td>\n",
       "    </tr>\n",
       "    <tr>\n",
       "      <th>33280</th>\n",
       "      <td>GU</td>\n",
       "      <td>Manure applied to Soils</td>\n",
       "      <td>181</td>\n",
       "      <td>Zimbabwe</td>\n",
       "      <td>723812</td>\n",
       "      <td>Manure applied to soils that leaches (N content)</td>\n",
       "      <td>1755</td>\n",
       "      <td>All Animals</td>\n",
       "      <td>2019</td>\n",
       "      <td>2019</td>\n",
       "      <td>3050</td>\n",
       "      <td>FAO TIER 1</td>\n",
       "      <td>kg</td>\n",
       "      <td>4.449253e+06</td>\n",
       "      <td>A</td>\n",
       "      <td>Aggregate, may include official, semi-official...</td>\n",
       "      <td>NaN</td>\n",
       "    </tr>\n",
       "    <tr>\n",
       "      <th>33281</th>\n",
       "      <td>GU</td>\n",
       "      <td>Manure applied to Soils</td>\n",
       "      <td>181</td>\n",
       "      <td>Zimbabwe</td>\n",
       "      <td>723811</td>\n",
       "      <td>Manure applied to soils that volatilises (N co...</td>\n",
       "      <td>1755</td>\n",
       "      <td>All Animals</td>\n",
       "      <td>2019</td>\n",
       "      <td>2019</td>\n",
       "      <td>3050</td>\n",
       "      <td>FAO TIER 1</td>\n",
       "      <td>kg</td>\n",
       "      <td>2.966169e+06</td>\n",
       "      <td>A</td>\n",
       "      <td>Aggregate, may include official, semi-official...</td>\n",
       "      <td>NaN</td>\n",
       "    </tr>\n",
       "  </tbody>\n",
       "</table>\n",
       "<p>33282 rows × 17 columns</p>\n",
       "</div>"
      ],
      "text/plain": [
       "      Domain Code                   Domain  Area Code (FAO)         Area  \\\n",
       "0              GU  Manure applied to Soils                2  Afghanistan   \n",
       "1              GU  Manure applied to Soils                2  Afghanistan   \n",
       "2              GU  Manure applied to Soils                2  Afghanistan   \n",
       "3              GU  Manure applied to Soils                2  Afghanistan   \n",
       "4              GU  Manure applied to Soils                2  Afghanistan   \n",
       "...           ...                      ...              ...          ...   \n",
       "33277          GU  Manure applied to Soils              181     Zimbabwe   \n",
       "33278          GU  Manure applied to Soils              181     Zimbabwe   \n",
       "33279          GU  Manure applied to Soils              181     Zimbabwe   \n",
       "33280          GU  Manure applied to Soils              181     Zimbabwe   \n",
       "33281          GU  Manure applied to Soils              181     Zimbabwe   \n",
       "\n",
       "       Element Code                                            Element  \\\n",
       "0             72381                Manure applied to soils (N content)   \n",
       "1            723812   Manure applied to soils that leaches (N content)   \n",
       "2            723811  Manure applied to soils that volatilises (N co...   \n",
       "3             72381                Manure applied to soils (N content)   \n",
       "4            723812   Manure applied to soils that leaches (N content)   \n",
       "...             ...                                                ...   \n",
       "33277        723812   Manure applied to soils that leaches (N content)   \n",
       "33278        723811  Manure applied to soils that volatilises (N co...   \n",
       "33279         72381                Manure applied to soils (N content)   \n",
       "33280        723812   Manure applied to soils that leaches (N content)   \n",
       "33281        723811  Manure applied to soils that volatilises (N co...   \n",
       "\n",
       "       Item Code         Item  Year Code  Year  Source Code      Source Unit  \\\n",
       "0           1755  All Animals       1961  1961         3050  FAO TIER 1   kg   \n",
       "1           1755  All Animals       1961  1961         3050  FAO TIER 1   kg   \n",
       "2           1755  All Animals       1961  1961         3050  FAO TIER 1   kg   \n",
       "3           1755  All Animals       1962  1962         3050  FAO TIER 1   kg   \n",
       "4           1755  All Animals       1962  1962         3050  FAO TIER 1   kg   \n",
       "...          ...          ...        ...   ...          ...         ...  ...   \n",
       "33277       1755  All Animals       2018  2018         3050  FAO TIER 1   kg   \n",
       "33278       1755  All Animals       2018  2018         3050  FAO TIER 1   kg   \n",
       "33279       1755  All Animals       2019  2019         3050  FAO TIER 1   kg   \n",
       "33280       1755  All Animals       2019  2019         3050  FAO TIER 1   kg   \n",
       "33281       1755  All Animals       2019  2019         3050  FAO TIER 1   kg   \n",
       "\n",
       "              Value Flag                                   Flag Description  \\\n",
       "0      5.624520e+07    A  Aggregate, may include official, semi-official...   \n",
       "1      1.687356e+07    A  Aggregate, may include official, semi-official...   \n",
       "2      1.124904e+07    A  Aggregate, may include official, semi-official...   \n",
       "3      5.704647e+07    A  Aggregate, may include official, semi-official...   \n",
       "4      1.711394e+07    A  Aggregate, may include official, semi-official...   \n",
       "...             ...  ...                                                ...   \n",
       "33277  4.073850e+06    A  Aggregate, may include official, semi-official...   \n",
       "33278  2.715900e+06    A  Aggregate, may include official, semi-official...   \n",
       "33279  1.483084e+07    A  Aggregate, may include official, semi-official...   \n",
       "33280  4.449253e+06    A  Aggregate, may include official, semi-official...   \n",
       "33281  2.966169e+06    A  Aggregate, may include official, semi-official...   \n",
       "\n",
       "       Note  \n",
       "0       NaN  \n",
       "1       NaN  \n",
       "2       NaN  \n",
       "3       NaN  \n",
       "4       NaN  \n",
       "...     ...  \n",
       "33277   NaN  \n",
       "33278   NaN  \n",
       "33279   NaN  \n",
       "33280   NaN  \n",
       "33281   NaN  \n",
       "\n",
       "[33282 rows x 17 columns]"
      ]
     },
     "execution_count": 2,
     "metadata": {},
     "output_type": "execute_result"
    }
   ],
   "source": [
    "Manure_df1 = pd.read_csv('DataFiles/01-RawDataFiles/ManureApplied-RAW/ManureApplied-RAW.csv')\n",
    "Manure_df1"
   ]
  },
  {
   "cell_type": "markdown",
   "metadata": {},
   "source": [
    "Looking at the columns of the dataframe."
   ]
  },
  {
   "cell_type": "code",
   "execution_count": 3,
   "metadata": {},
   "outputs": [
    {
     "data": {
      "text/plain": [
       "Index(['Domain Code', 'Domain', 'Area Code (FAO)', 'Area', 'Element Code',\n",
       "       'Element', 'Item Code', 'Item', 'Year Code', 'Year', 'Source Code',\n",
       "       'Source', 'Unit', 'Value', 'Flag', 'Flag Description', 'Note'],\n",
       "      dtype='object')"
      ]
     },
     "execution_count": 3,
     "metadata": {},
     "output_type": "execute_result"
    }
   ],
   "source": [
    "Manure_df1.columns"
   ]
  },
  {
   "cell_type": "markdown",
   "metadata": {},
   "source": [
    "As seen, there are a total of 17 columns present in the dataset."
   ]
  },
  {
   "cell_type": "markdown",
   "metadata": {},
   "source": [
    "Checking for unique categories in 'Domain' and 'Element' columns."
   ]
  },
  {
   "cell_type": "code",
   "execution_count": 4,
   "metadata": {},
   "outputs": [
    {
     "data": {
      "text/plain": [
       "array(['Manure applied to Soils'], dtype=object)"
      ]
     },
     "execution_count": 4,
     "metadata": {},
     "output_type": "execute_result"
    }
   ],
   "source": [
    "Manure_df1['Domain'].unique()"
   ]
  },
  {
   "cell_type": "code",
   "execution_count": 5,
   "metadata": {},
   "outputs": [
    {
     "data": {
      "text/plain": [
       "array(['Manure applied to soils (N content)',\n",
       "       'Manure applied to soils that leaches (N content)',\n",
       "       'Manure applied to soils that volatilises (N content)'],\n",
       "      dtype=object)"
      ]
     },
     "execution_count": 5,
     "metadata": {},
     "output_type": "execute_result"
    }
   ],
   "source": [
    "Manure_df1['Element'].unique()"
   ]
  },
  {
   "cell_type": "markdown",
   "metadata": {},
   "source": [
    "As seen, in case of 'Domain' column these is only one categorical value, thus making this column of less value. On the other hand, there are three data categories in the 'Element' column. Among the three categories, only 'Manure applied to soils (N content)' is of interest."
   ]
  },
  {
   "cell_type": "markdown",
   "metadata": {},
   "source": [
    "Looking at the 'Item' column."
   ]
  },
  {
   "cell_type": "code",
   "execution_count": 6,
   "metadata": {},
   "outputs": [
    {
     "data": {
      "text/plain": [
       "array(['All Animals'], dtype=object)"
      ]
     },
     "execution_count": 6,
     "metadata": {},
     "output_type": "execute_result"
    }
   ],
   "source": [
    "Manure_df1['Item'].unique()"
   ]
  },
  {
   "cell_type": "markdown",
   "metadata": {},
   "source": [
    "Similar to the 'Domain' column, the 'Item' column contains only one categorical value, thus making this column of less interest."
   ]
  },
  {
   "cell_type": "markdown",
   "metadata": {},
   "source": [
    "### Refined Dataset Creation and Exportation"
   ]
  },
  {
   "cell_type": "markdown",
   "metadata": {},
   "source": [
    "Filtering the dataframe on the basis of 'Element' column with values related to 'Manure applied to soils (N content)' category filtered only."
   ]
  },
  {
   "cell_type": "code",
   "execution_count": 7,
   "metadata": {},
   "outputs": [
    {
     "data": {
      "text/html": [
       "<div>\n",
       "<style scoped>\n",
       "    .dataframe tbody tr th:only-of-type {\n",
       "        vertical-align: middle;\n",
       "    }\n",
       "\n",
       "    .dataframe tbody tr th {\n",
       "        vertical-align: top;\n",
       "    }\n",
       "\n",
       "    .dataframe thead th {\n",
       "        text-align: right;\n",
       "    }\n",
       "</style>\n",
       "<table border=\"1\" class=\"dataframe\">\n",
       "  <thead>\n",
       "    <tr style=\"text-align: right;\">\n",
       "      <th></th>\n",
       "      <th>Domain Code</th>\n",
       "      <th>Domain</th>\n",
       "      <th>Area Code (FAO)</th>\n",
       "      <th>Area</th>\n",
       "      <th>Element Code</th>\n",
       "      <th>Element</th>\n",
       "      <th>Item Code</th>\n",
       "      <th>Item</th>\n",
       "      <th>Year Code</th>\n",
       "      <th>Year</th>\n",
       "      <th>Source Code</th>\n",
       "      <th>Source</th>\n",
       "      <th>Unit</th>\n",
       "      <th>Value</th>\n",
       "      <th>Flag</th>\n",
       "      <th>Flag Description</th>\n",
       "      <th>Note</th>\n",
       "    </tr>\n",
       "  </thead>\n",
       "  <tbody>\n",
       "    <tr>\n",
       "      <th>0</th>\n",
       "      <td>GU</td>\n",
       "      <td>Manure applied to Soils</td>\n",
       "      <td>2</td>\n",
       "      <td>Afghanistan</td>\n",
       "      <td>72381</td>\n",
       "      <td>Manure applied to soils (N content)</td>\n",
       "      <td>1755</td>\n",
       "      <td>All Animals</td>\n",
       "      <td>1961</td>\n",
       "      <td>1961</td>\n",
       "      <td>3050</td>\n",
       "      <td>FAO TIER 1</td>\n",
       "      <td>kg</td>\n",
       "      <td>5.624520e+07</td>\n",
       "      <td>A</td>\n",
       "      <td>Aggregate, may include official, semi-official...</td>\n",
       "      <td>NaN</td>\n",
       "    </tr>\n",
       "    <tr>\n",
       "      <th>3</th>\n",
       "      <td>GU</td>\n",
       "      <td>Manure applied to Soils</td>\n",
       "      <td>2</td>\n",
       "      <td>Afghanistan</td>\n",
       "      <td>72381</td>\n",
       "      <td>Manure applied to soils (N content)</td>\n",
       "      <td>1755</td>\n",
       "      <td>All Animals</td>\n",
       "      <td>1962</td>\n",
       "      <td>1962</td>\n",
       "      <td>3050</td>\n",
       "      <td>FAO TIER 1</td>\n",
       "      <td>kg</td>\n",
       "      <td>5.704647e+07</td>\n",
       "      <td>A</td>\n",
       "      <td>Aggregate, may include official, semi-official...</td>\n",
       "      <td>NaN</td>\n",
       "    </tr>\n",
       "  </tbody>\n",
       "</table>\n",
       "</div>"
      ],
      "text/plain": [
       "  Domain Code                   Domain  Area Code (FAO)         Area  \\\n",
       "0          GU  Manure applied to Soils                2  Afghanistan   \n",
       "3          GU  Manure applied to Soils                2  Afghanistan   \n",
       "\n",
       "   Element Code                              Element  Item Code         Item  \\\n",
       "0         72381  Manure applied to soils (N content)       1755  All Animals   \n",
       "3         72381  Manure applied to soils (N content)       1755  All Animals   \n",
       "\n",
       "   Year Code  Year  Source Code      Source Unit         Value Flag  \\\n",
       "0       1961  1961         3050  FAO TIER 1   kg  5.624520e+07    A   \n",
       "3       1962  1962         3050  FAO TIER 1   kg  5.704647e+07    A   \n",
       "\n",
       "                                    Flag Description  Note  \n",
       "0  Aggregate, may include official, semi-official...   NaN  \n",
       "3  Aggregate, may include official, semi-official...   NaN  "
      ]
     },
     "execution_count": 7,
     "metadata": {},
     "output_type": "execute_result"
    }
   ],
   "source": [
    "Manure_df2 = Manure_df1.loc[(Manure_df1['Element'] == 'Manure applied to soils (N content)')]\n",
    "Manure_df2.head(2)"
   ]
  },
  {
   "cell_type": "markdown",
   "metadata": {},
   "source": [
    "Selecting columns of interest, filtering out the redundant columns and renaming key columns appropriately."
   ]
  },
  {
   "cell_type": "code",
   "execution_count": 8,
   "metadata": {},
   "outputs": [
    {
     "name": "stderr",
     "output_type": "stream",
     "text": [
      "C:\\Users\\User\\AppData\\Local\\Temp\\ipykernel_17388\\352300079.py:2: SettingWithCopyWarning: \n",
      "A value is trying to be set on a copy of a slice from a DataFrame\n",
      "\n",
      "See the caveats in the documentation: https://pandas.pydata.org/pandas-docs/stable/user_guide/indexing.html#returning-a-view-versus-a-copy\n",
      "  Manure_df3.rename(columns = {'Value':'Manure applied to soil - N content (kg)', 'Area Code (FAO)':'Area Code'}, inplace = True)\n"
     ]
    },
    {
     "data": {
      "text/html": [
       "<div>\n",
       "<style scoped>\n",
       "    .dataframe tbody tr th:only-of-type {\n",
       "        vertical-align: middle;\n",
       "    }\n",
       "\n",
       "    .dataframe tbody tr th {\n",
       "        vertical-align: top;\n",
       "    }\n",
       "\n",
       "    .dataframe thead th {\n",
       "        text-align: right;\n",
       "    }\n",
       "</style>\n",
       "<table border=\"1\" class=\"dataframe\">\n",
       "  <thead>\n",
       "    <tr style=\"text-align: right;\">\n",
       "      <th></th>\n",
       "      <th>Area Code</th>\n",
       "      <th>Area</th>\n",
       "      <th>Year</th>\n",
       "      <th>Manure applied to soil - N content (kg)</th>\n",
       "    </tr>\n",
       "  </thead>\n",
       "  <tbody>\n",
       "    <tr>\n",
       "      <th>0</th>\n",
       "      <td>2</td>\n",
       "      <td>Afghanistan</td>\n",
       "      <td>1961</td>\n",
       "      <td>5.624520e+07</td>\n",
       "    </tr>\n",
       "    <tr>\n",
       "      <th>3</th>\n",
       "      <td>2</td>\n",
       "      <td>Afghanistan</td>\n",
       "      <td>1962</td>\n",
       "      <td>5.704647e+07</td>\n",
       "    </tr>\n",
       "    <tr>\n",
       "      <th>6</th>\n",
       "      <td>2</td>\n",
       "      <td>Afghanistan</td>\n",
       "      <td>1963</td>\n",
       "      <td>5.859424e+07</td>\n",
       "    </tr>\n",
       "    <tr>\n",
       "      <th>9</th>\n",
       "      <td>2</td>\n",
       "      <td>Afghanistan</td>\n",
       "      <td>1964</td>\n",
       "      <td>5.980591e+07</td>\n",
       "    </tr>\n",
       "    <tr>\n",
       "      <th>12</th>\n",
       "      <td>2</td>\n",
       "      <td>Afghanistan</td>\n",
       "      <td>1965</td>\n",
       "      <td>6.162054e+07</td>\n",
       "    </tr>\n",
       "    <tr>\n",
       "      <th>...</th>\n",
       "      <td>...</td>\n",
       "      <td>...</td>\n",
       "      <td>...</td>\n",
       "      <td>...</td>\n",
       "    </tr>\n",
       "    <tr>\n",
       "      <th>33267</th>\n",
       "      <td>181</td>\n",
       "      <td>Zimbabwe</td>\n",
       "      <td>2015</td>\n",
       "      <td>1.520726e+07</td>\n",
       "    </tr>\n",
       "    <tr>\n",
       "      <th>33270</th>\n",
       "      <td>181</td>\n",
       "      <td>Zimbabwe</td>\n",
       "      <td>2016</td>\n",
       "      <td>1.655674e+07</td>\n",
       "    </tr>\n",
       "    <tr>\n",
       "      <th>33273</th>\n",
       "      <td>181</td>\n",
       "      <td>Zimbabwe</td>\n",
       "      <td>2017</td>\n",
       "      <td>1.395568e+07</td>\n",
       "    </tr>\n",
       "    <tr>\n",
       "      <th>33276</th>\n",
       "      <td>181</td>\n",
       "      <td>Zimbabwe</td>\n",
       "      <td>2018</td>\n",
       "      <td>1.357950e+07</td>\n",
       "    </tr>\n",
       "    <tr>\n",
       "      <th>33279</th>\n",
       "      <td>181</td>\n",
       "      <td>Zimbabwe</td>\n",
       "      <td>2019</td>\n",
       "      <td>1.483084e+07</td>\n",
       "    </tr>\n",
       "  </tbody>\n",
       "</table>\n",
       "<p>11094 rows × 4 columns</p>\n",
       "</div>"
      ],
      "text/plain": [
       "       Area Code         Area  Year  Manure applied to soil - N content (kg)\n",
       "0              2  Afghanistan  1961                             5.624520e+07\n",
       "3              2  Afghanistan  1962                             5.704647e+07\n",
       "6              2  Afghanistan  1963                             5.859424e+07\n",
       "9              2  Afghanistan  1964                             5.980591e+07\n",
       "12             2  Afghanistan  1965                             6.162054e+07\n",
       "...          ...          ...   ...                                      ...\n",
       "33267        181     Zimbabwe  2015                             1.520726e+07\n",
       "33270        181     Zimbabwe  2016                             1.655674e+07\n",
       "33273        181     Zimbabwe  2017                             1.395568e+07\n",
       "33276        181     Zimbabwe  2018                             1.357950e+07\n",
       "33279        181     Zimbabwe  2019                             1.483084e+07\n",
       "\n",
       "[11094 rows x 4 columns]"
      ]
     },
     "execution_count": 8,
     "metadata": {},
     "output_type": "execute_result"
    }
   ],
   "source": [
    "Manure_df3 = Manure_df2[['Area Code (FAO)', 'Area', 'Year', 'Value']]\n",
    "Manure_df3.rename(columns = {'Value':'Manure applied to soil - N content (kg)', 'Area Code (FAO)':'Area Code'}, inplace = True)\n",
    "Manure_df3"
   ]
  },
  {
   "cell_type": "markdown",
   "metadata": {},
   "source": [
    "Exporting the refined dataset to a folder containing refined/filtered data and working files."
   ]
  },
  {
   "cell_type": "code",
   "execution_count": 9,
   "metadata": {},
   "outputs": [],
   "source": [
    "Manure_df3.to_csv(r'DataFiles/02-RefinedDataFiles/ManureApplied-REFINED.csv', index = False)"
   ]
  },
  {
   "cell_type": "markdown",
   "metadata": {},
   "source": [
    "### Summary of things done in this notebook:"
   ]
  },
  {
   "cell_type": "markdown",
   "metadata": {},
   "source": [
    "- Performed basic EDA.\n",
    "- Discarded region based statistics by applying filter on the 'Area' column.\n",
    "- Dropped redundant columns.\n",
    "- Incorporated more information in selected column names.\n",
    "- Exported the refined data to a CSV file.\n"
   ]
  },
  {
   "cell_type": "markdown",
   "metadata": {},
   "source": [
    "### References"
   ]
  },
  {
   "cell_type": "markdown",
   "metadata": {},
   "source": [
    "[1] “What Is Manure? - Definition, Types & Advantages of Manure.” BYJUS, https://byjus.com/biology/manure/. Accessed 1 Apr. 2022."
   ]
  },
  {
   "cell_type": "markdown",
   "metadata": {},
   "source": [
    "[2] Manure - an Overview | ScienceDirect Topics. https://www.sciencedirect.com/topics/agricultural-and-biological-sciences/manure. Accessed 1 Apr. 2022."
   ]
  }
 ],
 "metadata": {
  "interpreter": {
   "hash": "f048fb218df9a2a605f0fb9610e29eb0a529ecee93b7a6cb3f12b22b925683d9"
  },
  "kernelspec": {
   "display_name": "Python 3.10.0 ('CapstoneProject')",
   "language": "python",
   "name": "python3"
  },
  "language_info": {
   "codemirror_mode": {
    "name": "ipython",
    "version": 3
   },
   "file_extension": ".py",
   "mimetype": "text/x-python",
   "name": "python",
   "nbconvert_exporter": "python",
   "pygments_lexer": "ipython3",
   "version": "3.10.0"
  },
  "orig_nbformat": 4
 },
 "nbformat": 4,
 "nbformat_minor": 2
}
